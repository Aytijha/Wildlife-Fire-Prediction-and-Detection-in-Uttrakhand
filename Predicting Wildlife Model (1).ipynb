{
 "cells": [
  {
   "cell_type": "code",
   "execution_count": 51,
   "id": "adc652b6",
   "metadata": {},
   "outputs": [],
   "source": [
    "import datetime as dt\n",
    "\n",
    "import seaborn as sns\n",
    "import matplotlib.pyplot as plt\n",
    "%matplotlib inline \n"
   ]
  },
  {
   "cell_type": "code",
   "execution_count": 52,
   "id": "75b0bf61",
   "metadata": {},
   "outputs": [],
   "source": [
    "# importing libraries such as panadas for Dataframe and numpy for manupulating arrays\n",
    "import pandas as pd\n",
    "import numpy as np"
   ]
  },
  {
   "cell_type": "markdown",
   "id": "453d82b9",
   "metadata": {},
   "source": [
    "# Reading CSV file  "
   ]
  },
  {
   "cell_type": "code",
   "execution_count": 61,
   "id": "9c15c1de",
   "metadata": {},
   "outputs": [],
   "source": [
    "wildlife = pd.read_csv(\"MODIS_C6_1_South_Asia_7d.csv\")"
   ]
  },
  {
   "cell_type": "code",
   "execution_count": 62,
   "id": "cc250af3",
   "metadata": {},
   "outputs": [
    {
     "data": {
      "text/html": [
       "<div>\n",
       "<style scoped>\n",
       "    .dataframe tbody tr th:only-of-type {\n",
       "        vertical-align: middle;\n",
       "    }\n",
       "\n",
       "    .dataframe tbody tr th {\n",
       "        vertical-align: top;\n",
       "    }\n",
       "\n",
       "    .dataframe thead th {\n",
       "        text-align: right;\n",
       "    }\n",
       "</style>\n",
       "<table border=\"1\" class=\"dataframe\">\n",
       "  <thead>\n",
       "    <tr style=\"text-align: right;\">\n",
       "      <th></th>\n",
       "      <th>latitude</th>\n",
       "      <th>longitude</th>\n",
       "      <th>brightness</th>\n",
       "      <th>scan</th>\n",
       "      <th>track</th>\n",
       "      <th>acq_date</th>\n",
       "      <th>acq_time</th>\n",
       "      <th>satellite</th>\n",
       "      <th>confidence</th>\n",
       "      <th>version</th>\n",
       "      <th>bright_t31</th>\n",
       "      <th>frp</th>\n",
       "      <th>daynight</th>\n",
       "    </tr>\n",
       "  </thead>\n",
       "  <tbody>\n",
       "    <tr>\n",
       "      <th>0</th>\n",
       "      <td>7.37478</td>\n",
       "      <td>81.37296</td>\n",
       "      <td>318.39</td>\n",
       "      <td>1.01</td>\n",
       "      <td>1.01</td>\n",
       "      <td>2022-05-11</td>\n",
       "      <td>501</td>\n",
       "      <td>T</td>\n",
       "      <td>70</td>\n",
       "      <td>6.1NRT</td>\n",
       "      <td>292.44</td>\n",
       "      <td>11.15</td>\n",
       "      <td>D</td>\n",
       "    </tr>\n",
       "    <tr>\n",
       "      <th>1</th>\n",
       "      <td>28.47017</td>\n",
       "      <td>80.96015</td>\n",
       "      <td>324.15</td>\n",
       "      <td>1.46</td>\n",
       "      <td>1.19</td>\n",
       "      <td>2022-05-11</td>\n",
       "      <td>455</td>\n",
       "      <td>T</td>\n",
       "      <td>19</td>\n",
       "      <td>6.1NRT</td>\n",
       "      <td>299.90</td>\n",
       "      <td>12.90</td>\n",
       "      <td>D</td>\n",
       "    </tr>\n",
       "    <tr>\n",
       "      <th>2</th>\n",
       "      <td>27.89231</td>\n",
       "      <td>81.54675</td>\n",
       "      <td>326.51</td>\n",
       "      <td>1.33</td>\n",
       "      <td>1.14</td>\n",
       "      <td>2022-05-11</td>\n",
       "      <td>455</td>\n",
       "      <td>T</td>\n",
       "      <td>72</td>\n",
       "      <td>6.1NRT</td>\n",
       "      <td>300.69</td>\n",
       "      <td>10.63</td>\n",
       "      <td>D</td>\n",
       "    </tr>\n",
       "    <tr>\n",
       "      <th>3</th>\n",
       "      <td>26.63741</td>\n",
       "      <td>82.95482</td>\n",
       "      <td>331.01</td>\n",
       "      <td>1.10</td>\n",
       "      <td>1.05</td>\n",
       "      <td>2022-05-11</td>\n",
       "      <td>457</td>\n",
       "      <td>T</td>\n",
       "      <td>72</td>\n",
       "      <td>6.1NRT</td>\n",
       "      <td>305.98</td>\n",
       "      <td>11.30</td>\n",
       "      <td>D</td>\n",
       "    </tr>\n",
       "    <tr>\n",
       "      <th>4</th>\n",
       "      <td>26.64724</td>\n",
       "      <td>80.03714</td>\n",
       "      <td>325.69</td>\n",
       "      <td>1.58</td>\n",
       "      <td>1.24</td>\n",
       "      <td>2022-05-11</td>\n",
       "      <td>457</td>\n",
       "      <td>T</td>\n",
       "      <td>58</td>\n",
       "      <td>6.1NRT</td>\n",
       "      <td>302.43</td>\n",
       "      <td>14.25</td>\n",
       "      <td>D</td>\n",
       "    </tr>\n",
       "  </tbody>\n",
       "</table>\n",
       "</div>"
      ],
      "text/plain": [
       "   latitude  longitude  brightness  scan  track    acq_date  acq_time  \\\n",
       "0   7.37478   81.37296      318.39  1.01   1.01  2022-05-11       501   \n",
       "1  28.47017   80.96015      324.15  1.46   1.19  2022-05-11       455   \n",
       "2  27.89231   81.54675      326.51  1.33   1.14  2022-05-11       455   \n",
       "3  26.63741   82.95482      331.01  1.10   1.05  2022-05-11       457   \n",
       "4  26.64724   80.03714      325.69  1.58   1.24  2022-05-11       457   \n",
       "\n",
       "  satellite  confidence version  bright_t31    frp daynight  \n",
       "0         T          70  6.1NRT      292.44  11.15        D  \n",
       "1         T          19  6.1NRT      299.90  12.90        D  \n",
       "2         T          72  6.1NRT      300.69  10.63        D  \n",
       "3         T          72  6.1NRT      305.98  11.30        D  \n",
       "4         T          58  6.1NRT      302.43  14.25        D  "
      ]
     },
     "execution_count": 62,
     "metadata": {},
     "output_type": "execute_result"
    }
   ],
   "source": [
    "wildlife.head()"
   ]
  },
  {
   "cell_type": "code",
   "execution_count": 63,
   "id": "1cfa2635",
   "metadata": {},
   "outputs": [
    {
     "data": {
      "text/plain": [
       "latitude      0\n",
       "longitude     0\n",
       "brightness    0\n",
       "scan          0\n",
       "track         0\n",
       "acq_date      0\n",
       "acq_time      0\n",
       "satellite     0\n",
       "confidence    0\n",
       "version       0\n",
       "bright_t31    0\n",
       "frp           0\n",
       "daynight      0\n",
       "dtype: int64"
      ]
     },
     "execution_count": 63,
     "metadata": {},
     "output_type": "execute_result"
    }
   ],
   "source": [
    "wildlife.isnull().sum()"
   ]
  },
  {
   "cell_type": "code",
   "execution_count": 64,
   "id": "eaad5a43",
   "metadata": {},
   "outputs": [
    {
     "data": {
      "text/plain": [
       "(1887, 13)"
      ]
     },
     "execution_count": 64,
     "metadata": {},
     "output_type": "execute_result"
    }
   ],
   "source": [
    "wildlife.shape"
   ]
  },
  {
   "cell_type": "code",
   "execution_count": 65,
   "id": "b570f867",
   "metadata": {},
   "outputs": [
    {
     "data": {
      "text/html": [
       "<div>\n",
       "<style scoped>\n",
       "    .dataframe tbody tr th:only-of-type {\n",
       "        vertical-align: middle;\n",
       "    }\n",
       "\n",
       "    .dataframe tbody tr th {\n",
       "        vertical-align: top;\n",
       "    }\n",
       "\n",
       "    .dataframe thead th {\n",
       "        text-align: right;\n",
       "    }\n",
       "</style>\n",
       "<table border=\"1\" class=\"dataframe\">\n",
       "  <thead>\n",
       "    <tr style=\"text-align: right;\">\n",
       "      <th></th>\n",
       "      <th>latitude</th>\n",
       "      <th>longitude</th>\n",
       "      <th>brightness</th>\n",
       "      <th>scan</th>\n",
       "      <th>track</th>\n",
       "      <th>acq_time</th>\n",
       "      <th>confidence</th>\n",
       "      <th>bright_t31</th>\n",
       "      <th>frp</th>\n",
       "    </tr>\n",
       "  </thead>\n",
       "  <tbody>\n",
       "    <tr>\n",
       "      <th>latitude</th>\n",
       "      <td>1.000000</td>\n",
       "      <td>-0.509256</td>\n",
       "      <td>0.116069</td>\n",
       "      <td>0.065346</td>\n",
       "      <td>0.079685</td>\n",
       "      <td>0.005377</td>\n",
       "      <td>0.090678</td>\n",
       "      <td>0.299477</td>\n",
       "      <td>0.019595</td>\n",
       "    </tr>\n",
       "    <tr>\n",
       "      <th>longitude</th>\n",
       "      <td>-0.509256</td>\n",
       "      <td>1.000000</td>\n",
       "      <td>-0.113887</td>\n",
       "      <td>0.022991</td>\n",
       "      <td>0.007975</td>\n",
       "      <td>-0.178640</td>\n",
       "      <td>-0.139169</td>\n",
       "      <td>-0.281715</td>\n",
       "      <td>-0.005705</td>\n",
       "    </tr>\n",
       "    <tr>\n",
       "      <th>brightness</th>\n",
       "      <td>0.116069</td>\n",
       "      <td>-0.113887</td>\n",
       "      <td>1.000000</td>\n",
       "      <td>-0.081876</td>\n",
       "      <td>-0.077994</td>\n",
       "      <td>-0.652030</td>\n",
       "      <td>0.384174</td>\n",
       "      <td>0.773638</td>\n",
       "      <td>0.440651</td>\n",
       "    </tr>\n",
       "    <tr>\n",
       "      <th>scan</th>\n",
       "      <td>0.065346</td>\n",
       "      <td>0.022991</td>\n",
       "      <td>-0.081876</td>\n",
       "      <td>1.000000</td>\n",
       "      <td>0.991370</td>\n",
       "      <td>-0.004605</td>\n",
       "      <td>-0.056816</td>\n",
       "      <td>-0.142012</td>\n",
       "      <td>0.441386</td>\n",
       "    </tr>\n",
       "    <tr>\n",
       "      <th>track</th>\n",
       "      <td>0.079685</td>\n",
       "      <td>0.007975</td>\n",
       "      <td>-0.077994</td>\n",
       "      <td>0.991370</td>\n",
       "      <td>1.000000</td>\n",
       "      <td>0.002640</td>\n",
       "      <td>-0.051353</td>\n",
       "      <td>-0.130261</td>\n",
       "      <td>0.438875</td>\n",
       "    </tr>\n",
       "    <tr>\n",
       "      <th>acq_time</th>\n",
       "      <td>0.005377</td>\n",
       "      <td>-0.178640</td>\n",
       "      <td>-0.652030</td>\n",
       "      <td>-0.004605</td>\n",
       "      <td>0.002640</td>\n",
       "      <td>1.000000</td>\n",
       "      <td>0.122254</td>\n",
       "      <td>-0.608192</td>\n",
       "      <td>-0.099741</td>\n",
       "    </tr>\n",
       "    <tr>\n",
       "      <th>confidence</th>\n",
       "      <td>0.090678</td>\n",
       "      <td>-0.139169</td>\n",
       "      <td>0.384174</td>\n",
       "      <td>-0.056816</td>\n",
       "      <td>-0.051353</td>\n",
       "      <td>0.122254</td>\n",
       "      <td>1.000000</td>\n",
       "      <td>0.171835</td>\n",
       "      <td>0.315004</td>\n",
       "    </tr>\n",
       "    <tr>\n",
       "      <th>bright_t31</th>\n",
       "      <td>0.299477</td>\n",
       "      <td>-0.281715</td>\n",
       "      <td>0.773638</td>\n",
       "      <td>-0.142012</td>\n",
       "      <td>-0.130261</td>\n",
       "      <td>-0.608192</td>\n",
       "      <td>0.171835</td>\n",
       "      <td>1.000000</td>\n",
       "      <td>0.022563</td>\n",
       "    </tr>\n",
       "    <tr>\n",
       "      <th>frp</th>\n",
       "      <td>0.019595</td>\n",
       "      <td>-0.005705</td>\n",
       "      <td>0.440651</td>\n",
       "      <td>0.441386</td>\n",
       "      <td>0.438875</td>\n",
       "      <td>-0.099741</td>\n",
       "      <td>0.315004</td>\n",
       "      <td>0.022563</td>\n",
       "      <td>1.000000</td>\n",
       "    </tr>\n",
       "  </tbody>\n",
       "</table>\n",
       "</div>"
      ],
      "text/plain": [
       "            latitude  longitude  brightness      scan     track  acq_time  \\\n",
       "latitude    1.000000  -0.509256    0.116069  0.065346  0.079685  0.005377   \n",
       "longitude  -0.509256   1.000000   -0.113887  0.022991  0.007975 -0.178640   \n",
       "brightness  0.116069  -0.113887    1.000000 -0.081876 -0.077994 -0.652030   \n",
       "scan        0.065346   0.022991   -0.081876  1.000000  0.991370 -0.004605   \n",
       "track       0.079685   0.007975   -0.077994  0.991370  1.000000  0.002640   \n",
       "acq_time    0.005377  -0.178640   -0.652030 -0.004605  0.002640  1.000000   \n",
       "confidence  0.090678  -0.139169    0.384174 -0.056816 -0.051353  0.122254   \n",
       "bright_t31  0.299477  -0.281715    0.773638 -0.142012 -0.130261 -0.608192   \n",
       "frp         0.019595  -0.005705    0.440651  0.441386  0.438875 -0.099741   \n",
       "\n",
       "            confidence  bright_t31       frp  \n",
       "latitude      0.090678    0.299477  0.019595  \n",
       "longitude    -0.139169   -0.281715 -0.005705  \n",
       "brightness    0.384174    0.773638  0.440651  \n",
       "scan         -0.056816   -0.142012  0.441386  \n",
       "track        -0.051353   -0.130261  0.438875  \n",
       "acq_time      0.122254   -0.608192 -0.099741  \n",
       "confidence    1.000000    0.171835  0.315004  \n",
       "bright_t31    0.171835    1.000000  0.022563  \n",
       "frp           0.315004    0.022563  1.000000  "
      ]
     },
     "execution_count": 65,
     "metadata": {},
     "output_type": "execute_result"
    }
   ],
   "source": [
    "wildlife.corr()"
   ]
  },
  {
   "cell_type": "markdown",
   "id": "9ef92603",
   "metadata": {},
   "source": [
    "# Creating An Heat Map "
   ]
  },
  {
   "cell_type": "code",
   "execution_count": 66,
   "id": "266cf173",
   "metadata": {},
   "outputs": [
    {
     "data": {
      "text/plain": [
       "<AxesSubplot:>"
      ]
     },
     "execution_count": 66,
     "metadata": {},
     "output_type": "execute_result"
    },
    {
     "data": {
      "image/png": "[encoded data removed]",
      "text/plain": [
       "<Figure size 720x720 with 2 Axes>"
      ]
     },
     "metadata": {
      "needs_background": "light"
     },
     "output_type": "display_data"
    }
   ],
   "source": [
    "plt.figure(figsize=(10, 10))\n",
    "sns.heatmap(wildlife.corr(),annot=True,cmap='viridis',linewidths=.5)"
   ]
  },
  {
   "cell_type": "code",
   "execution_count": 67,
   "id": "0c8fa715",
   "metadata": {},
   "outputs": [
    {
     "data": {
      "text/plain": [
       "6.1NRT    1887\n",
       "Name: version, dtype: int64"
      ]
     },
     "execution_count": 67,
     "metadata": {},
     "output_type": "execute_result"
    }
   ],
   "source": [
    "wildlife['version'].value_counts()"
   ]
  },
  {
   "cell_type": "code",
   "execution_count": 68,
   "id": "9adc95f0",
   "metadata": {},
   "outputs": [],
   "source": [
    "#As version is same for all we can drop this column\n",
    "wildlife = wildlife.drop(['version'], axis = 1)"
   ]
  },
  {
   "cell_type": "code",
   "execution_count": 69,
   "id": "bf9d3d8f",
   "metadata": {},
   "outputs": [],
   "source": [
    "#From heatMap we can conclude 'track' column has an high value so we can drop this column\n",
    "wildlife = wildlife.drop(['track'], axis = 1)"
   ]
  },
  {
   "cell_type": "markdown",
   "id": "3f525469",
   "metadata": {},
   "source": [
    "# Scaling down the Numeric Columns"
   ]
  },
  {
   "cell_type": "code",
   "execution_count": 70,
   "id": "616a5db2",
   "metadata": {},
   "outputs": [
    {
     "data": {
      "text/plain": [
       "latitude      float64\n",
       "longitude     float64\n",
       "brightness    float64\n",
       "scan          float64\n",
       "acq_date       object\n",
       "acq_time        int64\n",
       "satellite      object\n",
       "confidence      int64\n",
       "bright_t31    float64\n",
       "frp           float64\n",
       "daynight       object\n",
       "dtype: object"
      ]
     },
     "execution_count": 70,
     "metadata": {},
     "output_type": "execute_result"
    }
   ],
   "source": [
    "wildlife.dtypes"
   ]
  },
  {
   "cell_type": "code",
   "execution_count": 71,
   "id": "53eea81c",
   "metadata": {},
   "outputs": [
    {
     "data": {
      "text/html": [
       "<div>\n",
       "<style scoped>\n",
       "    .dataframe tbody tr th:only-of-type {\n",
       "        vertical-align: middle;\n",
       "    }\n",
       "\n",
       "    .dataframe tbody tr th {\n",
       "        vertical-align: top;\n",
       "    }\n",
       "\n",
       "    .dataframe thead th {\n",
       "        text-align: right;\n",
       "    }\n",
       "</style>\n",
       "<table border=\"1\" class=\"dataframe\">\n",
       "  <thead>\n",
       "    <tr style=\"text-align: right;\">\n",
       "      <th></th>\n",
       "      <th>latitude</th>\n",
       "      <th>longitude</th>\n",
       "      <th>brightness</th>\n",
       "      <th>scan</th>\n",
       "      <th>acq_time</th>\n",
       "      <th>confidence</th>\n",
       "      <th>bright_t31</th>\n",
       "      <th>frp</th>\n",
       "    </tr>\n",
       "  </thead>\n",
       "  <tbody>\n",
       "    <tr>\n",
       "      <th>count</th>\n",
       "      <td>1887.000000</td>\n",
       "      <td>1887.000000</td>\n",
       "      <td>1887.000000</td>\n",
       "      <td>1887.000000</td>\n",
       "      <td>1887.000000</td>\n",
       "      <td>1887.000000</td>\n",
       "      <td>1887.000000</td>\n",
       "      <td>1887.000000</td>\n",
       "    </tr>\n",
       "    <tr>\n",
       "      <th>mean</th>\n",
       "      <td>27.431809</td>\n",
       "      <td>77.154410</td>\n",
       "      <td>328.448686</td>\n",
       "      <td>1.395140</td>\n",
       "      <td>917.121887</td>\n",
       "      <td>68.115527</td>\n",
       "      <td>307.411712</td>\n",
       "      <td>22.826010</td>\n",
       "    </tr>\n",
       "    <tr>\n",
       "      <th>std</th>\n",
       "      <td>5.973244</td>\n",
       "      <td>6.519533</td>\n",
       "      <td>12.280089</td>\n",
       "      <td>0.535207</td>\n",
       "      <td>477.929014</td>\n",
       "      <td>17.241913</td>\n",
       "      <td>10.210443</td>\n",
       "      <td>31.031252</td>\n",
       "    </tr>\n",
       "    <tr>\n",
       "      <th>min</th>\n",
       "      <td>5.581600</td>\n",
       "      <td>54.315140</td>\n",
       "      <td>300.480000</td>\n",
       "      <td>1.000000</td>\n",
       "      <td>349.000000</td>\n",
       "      <td>0.000000</td>\n",
       "      <td>272.030000</td>\n",
       "      <td>3.200000</td>\n",
       "    </tr>\n",
       "    <tr>\n",
       "      <th>25%</th>\n",
       "      <td>22.365765</td>\n",
       "      <td>73.935380</td>\n",
       "      <td>320.225000</td>\n",
       "      <td>1.030000</td>\n",
       "      <td>540.000000</td>\n",
       "      <td>60.000000</td>\n",
       "      <td>298.500000</td>\n",
       "      <td>10.175000</td>\n",
       "    </tr>\n",
       "    <tr>\n",
       "      <th>50%</th>\n",
       "      <td>30.474080</td>\n",
       "      <td>75.840480</td>\n",
       "      <td>331.350000</td>\n",
       "      <td>1.160000</td>\n",
       "      <td>758.000000</td>\n",
       "      <td>71.000000</td>\n",
       "      <td>309.540000</td>\n",
       "      <td>15.100000</td>\n",
       "    </tr>\n",
       "    <tr>\n",
       "      <th>75%</th>\n",
       "      <td>32.198300</td>\n",
       "      <td>79.070680</td>\n",
       "      <td>336.310000</td>\n",
       "      <td>1.560000</td>\n",
       "      <td>841.000000</td>\n",
       "      <td>79.000000</td>\n",
       "      <td>315.615000</td>\n",
       "      <td>25.905000</td>\n",
       "    </tr>\n",
       "    <tr>\n",
       "      <th>max</th>\n",
       "      <td>39.849320</td>\n",
       "      <td>101.964660</td>\n",
       "      <td>382.620000</td>\n",
       "      <td>4.470000</td>\n",
       "      <td>2229.000000</td>\n",
       "      <td>100.000000</td>\n",
       "      <td>329.620000</td>\n",
       "      <td>727.930000</td>\n",
       "    </tr>\n",
       "  </tbody>\n",
       "</table>\n",
       "</div>"
      ],
      "text/plain": [
       "          latitude    longitude   brightness         scan     acq_time  \\\n",
       "count  1887.000000  1887.000000  1887.000000  1887.000000  1887.000000   \n",
       "mean     27.431809    77.154410   328.448686     1.395140   917.121887   \n",
       "std       5.973244     6.519533    12.280089     0.535207   477.929014   \n",
       "min       5.581600    54.315140   300.480000     1.000000   349.000000   \n",
       "25%      22.365765    73.935380   320.225000     1.030000   540.000000   \n",
       "50%      30.474080    75.840480   331.350000     1.160000   758.000000   \n",
       "75%      32.198300    79.070680   336.310000     1.560000   841.000000   \n",
       "max      39.849320   101.964660   382.620000     4.470000  2229.000000   \n",
       "\n",
       "        confidence   bright_t31          frp  \n",
       "count  1887.000000  1887.000000  1887.000000  \n",
       "mean     68.115527   307.411712    22.826010  \n",
       "std      17.241913    10.210443    31.031252  \n",
       "min       0.000000   272.030000     3.200000  \n",
       "25%      60.000000   298.500000    10.175000  \n",
       "50%      71.000000   309.540000    15.100000  \n",
       "75%      79.000000   315.615000    25.905000  \n",
       "max     100.000000   329.620000   727.930000  "
      ]
     },
     "execution_count": 71,
     "metadata": {},
     "output_type": "execute_result"
    }
   ],
   "source": [
    "wildlife.describe()"
   ]
  },
  {
   "cell_type": "markdown",
   "id": "a0b82c05",
   "metadata": {},
   "source": [
    "As observed, the min_value amongst these Numeric Columns is 0, while the max_value if 2229, indicating a huge disparity amongst the Numeric features of this dataset.\n",
    "To normalize that, we'll Scale down the Numeric fetaures"
   ]
  },
  {
   "cell_type": "code",
   "execution_count": 72,
   "id": "02ec3a8c",
   "metadata": {},
   "outputs": [],
   "source": [
    "numeric_cols = ['latitude', 'longitude', 'brightness', 'frp']"
   ]
  },
  {
   "cell_type": "code",
   "execution_count": 73,
   "id": "78b771cb",
   "metadata": {},
   "outputs": [],
   "source": [
    "from sklearn.preprocessing import MinMaxScaler\n",
    "scaler = MinMaxScaler()"
   ]
  },
  {
   "cell_type": "code",
   "execution_count": 74,
   "id": "ee1b33ae",
   "metadata": {},
   "outputs": [],
   "source": [
    "wildlife[numeric_cols] = scaler.fit_transform(wildlife[numeric_cols])"
   ]
  },
  {
   "cell_type": "code",
   "execution_count": 75,
   "id": "5c228c56",
   "metadata": {},
   "outputs": [
    {
     "data": {
      "text/html": [
       "<div>\n",
       "<style scoped>\n",
       "    .dataframe tbody tr th:only-of-type {\n",
       "        vertical-align: middle;\n",
       "    }\n",
       "\n",
       "    .dataframe tbody tr th {\n",
       "        vertical-align: top;\n",
       "    }\n",
       "\n",
       "    .dataframe thead th {\n",
       "        text-align: right;\n",
       "    }\n",
       "</style>\n",
       "<table border=\"1\" class=\"dataframe\">\n",
       "  <thead>\n",
       "    <tr style=\"text-align: right;\">\n",
       "      <th></th>\n",
       "      <th>latitude</th>\n",
       "      <th>longitude</th>\n",
       "      <th>brightness</th>\n",
       "      <th>scan</th>\n",
       "      <th>acq_time</th>\n",
       "      <th>confidence</th>\n",
       "      <th>bright_t31</th>\n",
       "      <th>frp</th>\n",
       "    </tr>\n",
       "  </thead>\n",
       "  <tbody>\n",
       "    <tr>\n",
       "      <th>count</th>\n",
       "      <td>1887.000000</td>\n",
       "      <td>1887.000000</td>\n",
       "      <td>1887.000000</td>\n",
       "      <td>1887.000000</td>\n",
       "      <td>1887.000000</td>\n",
       "      <td>1887.000000</td>\n",
       "      <td>1887.000000</td>\n",
       "      <td>1887.000000</td>\n",
       "    </tr>\n",
       "    <tr>\n",
       "      <th>mean</th>\n",
       "      <td>0.637632</td>\n",
       "      <td>0.479318</td>\n",
       "      <td>0.340500</td>\n",
       "      <td>1.395140</td>\n",
       "      <td>917.121887</td>\n",
       "      <td>68.115527</td>\n",
       "      <td>307.411712</td>\n",
       "      <td>0.027080</td>\n",
       "    </tr>\n",
       "    <tr>\n",
       "      <th>std</th>\n",
       "      <td>0.174311</td>\n",
       "      <td>0.136823</td>\n",
       "      <td>0.149502</td>\n",
       "      <td>0.535207</td>\n",
       "      <td>477.929014</td>\n",
       "      <td>17.241913</td>\n",
       "      <td>10.210443</td>\n",
       "      <td>0.042818</td>\n",
       "    </tr>\n",
       "    <tr>\n",
       "      <th>min</th>\n",
       "      <td>0.000000</td>\n",
       "      <td>0.000000</td>\n",
       "      <td>0.000000</td>\n",
       "      <td>1.000000</td>\n",
       "      <td>349.000000</td>\n",
       "      <td>0.000000</td>\n",
       "      <td>272.030000</td>\n",
       "      <td>0.000000</td>\n",
       "    </tr>\n",
       "    <tr>\n",
       "      <th>25%</th>\n",
       "      <td>0.489795</td>\n",
       "      <td>0.411762</td>\n",
       "      <td>0.240382</td>\n",
       "      <td>1.030000</td>\n",
       "      <td>540.000000</td>\n",
       "      <td>60.000000</td>\n",
       "      <td>298.500000</td>\n",
       "      <td>0.009624</td>\n",
       "    </tr>\n",
       "    <tr>\n",
       "      <th>50%</th>\n",
       "      <td>0.726412</td>\n",
       "      <td>0.451743</td>\n",
       "      <td>0.375822</td>\n",
       "      <td>1.160000</td>\n",
       "      <td>758.000000</td>\n",
       "      <td>71.000000</td>\n",
       "      <td>309.540000</td>\n",
       "      <td>0.016420</td>\n",
       "    </tr>\n",
       "    <tr>\n",
       "      <th>75%</th>\n",
       "      <td>0.776728</td>\n",
       "      <td>0.519534</td>\n",
       "      <td>0.436206</td>\n",
       "      <td>1.560000</td>\n",
       "      <td>841.000000</td>\n",
       "      <td>79.000000</td>\n",
       "      <td>315.615000</td>\n",
       "      <td>0.031329</td>\n",
       "    </tr>\n",
       "    <tr>\n",
       "      <th>max</th>\n",
       "      <td>1.000000</td>\n",
       "      <td>1.000000</td>\n",
       "      <td>1.000000</td>\n",
       "      <td>4.470000</td>\n",
       "      <td>2229.000000</td>\n",
       "      <td>100.000000</td>\n",
       "      <td>329.620000</td>\n",
       "      <td>1.000000</td>\n",
       "    </tr>\n",
       "  </tbody>\n",
       "</table>\n",
       "</div>"
      ],
      "text/plain": [
       "          latitude    longitude   brightness         scan     acq_time  \\\n",
       "count  1887.000000  1887.000000  1887.000000  1887.000000  1887.000000   \n",
       "mean      0.637632     0.479318     0.340500     1.395140   917.121887   \n",
       "std       0.174311     0.136823     0.149502     0.535207   477.929014   \n",
       "min       0.000000     0.000000     0.000000     1.000000   349.000000   \n",
       "25%       0.489795     0.411762     0.240382     1.030000   540.000000   \n",
       "50%       0.726412     0.451743     0.375822     1.160000   758.000000   \n",
       "75%       0.776728     0.519534     0.436206     1.560000   841.000000   \n",
       "max       1.000000     1.000000     1.000000     4.470000  2229.000000   \n",
       "\n",
       "        confidence   bright_t31          frp  \n",
       "count  1887.000000  1887.000000  1887.000000  \n",
       "mean     68.115527   307.411712     0.027080  \n",
       "std      17.241913    10.210443     0.042818  \n",
       "min       0.000000   272.030000     0.000000  \n",
       "25%      60.000000   298.500000     0.009624  \n",
       "50%      71.000000   309.540000     0.016420  \n",
       "75%      79.000000   315.615000     0.031329  \n",
       "max     100.000000   329.620000     1.000000  "
      ]
     },
     "execution_count": 75,
     "metadata": {},
     "output_type": "execute_result"
    }
   ],
   "source": [
    "wildlife.describe()"
   ]
  },
  {
   "cell_type": "markdown",
   "id": "e8d7a70e",
   "metadata": {},
   "source": [
    "We'll be dealing with the 'acq_time' column in a different way"
   ]
  },
  {
   "cell_type": "markdown",
   "id": "06f35faa",
   "metadata": {},
   "source": [
    "# Encoding Some of the Categorical Columns"
   ]
  },
  {
   "cell_type": "code",
   "execution_count": 76,
   "id": "0fe722a7",
   "metadata": {},
   "outputs": [
    {
     "name": "stdout",
     "output_type": "stream",
     "text": [
      "A    972\n",
      "T    915\n",
      "Name: satellite, dtype: int64\n"
     ]
    }
   ],
   "source": [
    "print(wildlife['satellite'].value_counts())"
   ]
  },
  {
   "cell_type": "code",
   "execution_count": 77,
   "id": "a32fd1b9",
   "metadata": {},
   "outputs": [],
   "source": [
    "wildlife['satellite']=wildlife['satellite'].map({\"A\":1 ,\"T\":0})"
   ]
  },
  {
   "cell_type": "code",
   "execution_count": 78,
   "id": "fdf98c82",
   "metadata": {},
   "outputs": [
    {
     "name": "stdout",
     "output_type": "stream",
     "text": [
      "D    1484\n",
      "N     403\n",
      "Name: daynight, dtype: int64\n"
     ]
    }
   ],
   "source": [
    "print(wildlife['daynight'].value_counts())"
   ]
  },
  {
   "cell_type": "code",
   "execution_count": 79,
   "id": "b8edfd55",
   "metadata": {},
   "outputs": [],
   "source": [
    "wildlife['daynight'] = wildlife['daynight'].map({'D':1, 'N':0})"
   ]
  },
  {
   "cell_type": "code",
   "execution_count": 80,
   "id": "74b581d4",
   "metadata": {},
   "outputs": [
    {
     "data": {
      "text/plain": [
       "0      2022-05-11\n",
       "1      2022-05-11\n",
       "2      2022-05-11\n",
       "3      2022-05-11\n",
       "4      2022-05-11\n",
       "          ...    \n",
       "1882   2022-05-18\n",
       "1883   2022-05-18\n",
       "1884   2022-05-18\n",
       "1885   2022-05-18\n",
       "1886   2022-05-18\n",
       "Name: acq_date, Length: 1887, dtype: datetime64[ns]"
      ]
     },
     "execution_count": 80,
     "metadata": {},
     "output_type": "execute_result"
    }
   ],
   "source": [
    "wildlife['acq_date'] = pd.to_datetime(wildlife['acq_date'])\n",
    "wildlife['acq_date']"
   ]
  },
  {
   "cell_type": "code",
   "execution_count": 81,
   "id": "e5c2ccbc",
   "metadata": {},
   "outputs": [
    {
     "data": {
      "text/plain": [
       "<bound method NDFrame.head of       latitude  longitude  brightness  scan   acq_date  acq_time  satellite  \\\n",
       "0     0.052329   0.567851    0.218042  1.01 2022-05-11       501          0   \n",
       "1     0.667934   0.559187    0.288167  1.46 2022-05-11       455          0   \n",
       "2     0.651071   0.571498    0.316898  1.33 2022-05-11       455          0   \n",
       "3     0.614450   0.601049    0.371682  1.10 2022-05-11       457          0   \n",
       "4     0.614737   0.539817    0.306915  1.58 2022-05-11       457          0   \n",
       "...        ...        ...         ...   ...        ...       ...        ...   \n",
       "1882  0.804123   0.433612    0.370343  1.00 2022-05-18       818          1   \n",
       "1883  0.804079   0.433388    0.284636  1.00 2022-05-18       818          1   \n",
       "1884  0.805308   0.418245    0.293280  1.00 2022-05-18       818          1   \n",
       "1885  0.815319   0.413071    0.251157  1.01 2022-05-18       818          1   \n",
       "1886  0.530973   0.673092    0.099099  1.68 2022-05-18      1558          0   \n",
       "\n",
       "      confidence  bright_t31       frp  daynight  year  month  day  \n",
       "0             70      292.44  0.010970         1  2022      5   11  \n",
       "1             19      299.90  0.013384         1  2022      5   11  \n",
       "2             72      300.69  0.010252         1  2022      5   11  \n",
       "3             72      305.98  0.011177         1  2022      5   11  \n",
       "4             58      302.43  0.015247         1  2022      5   11  \n",
       "...          ...         ...       ...       ...   ...    ...  ...  \n",
       "1882          75      308.99  0.017676         1  2022      5   18  \n",
       "1883          52      309.37  0.006471         1  2022      5   18  \n",
       "1884          48      307.56  0.006623         1  2022      5   18  \n",
       "1885          60      308.06  0.003532         1  2022      5   18  \n",
       "1886          37      290.92  0.009507         0  2022      5   18  \n",
       "\n",
       "[1887 rows x 14 columns]>"
      ]
     },
     "execution_count": 81,
     "metadata": {},
     "output_type": "execute_result"
    }
   ],
   "source": [
    "wildlife['year'] = wildlife['acq_date'].dt.year\n",
    "wildlife['month'] = wildlife['acq_date'].dt.month\n",
    "wildlife['day'] = wildlife['acq_date'].dt.day\n",
    "wildlife.head"
   ]
  },
  {
   "cell_type": "code",
   "execution_count": 82,
   "id": "8ce5b760",
   "metadata": {},
   "outputs": [],
   "source": [
    "bins = [0, 1, 2, 3, 4, 5]\n",
    "labels = [1,2,3,4,5]\n",
    "wildlife['scan_binned'] = pd.cut(wildlife['scan'], bins=bins, labels=labels)\n",
    "wildlife = wildlife.drop(['scan'], axis = 1)\n"
   ]
  },
  {
   "cell_type": "code",
   "execution_count": 83,
   "id": "2669d940",
   "metadata": {},
   "outputs": [
    {
     "data": {
      "text/plain": [
       "0       2\n",
       "1       2\n",
       "2       2\n",
       "3       2\n",
       "4       2\n",
       "       ..\n",
       "1882    1\n",
       "1883    1\n",
       "1884    1\n",
       "1885    2\n",
       "1886    2\n",
       "Name: scan_binned, Length: 1887, dtype: category\n",
       "Categories (5, int64): [1 < 2 < 3 < 4 < 5]"
      ]
     },
     "execution_count": 83,
     "metadata": {},
     "output_type": "execute_result"
    }
   ],
   "source": [
    "wildlife['scan_binned']\n"
   ]
  },
  {
   "cell_type": "markdown",
   "id": "49a360af",
   "metadata": {},
   "source": [
    "# Tracing the Train and Test Parameters"
   ]
  },
  {
   "cell_type": "code",
   "execution_count": 84,
   "id": "89c88bcf",
   "metadata": {},
   "outputs": [],
   "source": [
    "y = wildlife['confidence']\n",
    "X = wildlife.drop(['confidence', 'acq_date', 'acq_time', 'bright_t31'], axis = 1)"
   ]
  },
  {
   "cell_type": "code",
   "execution_count": 85,
   "id": "e96d2ebf",
   "metadata": {},
   "outputs": [
    {
     "data": {
      "text/plain": [
       "<bound method NDFrame.head of       latitude  longitude  brightness  satellite       frp  daynight  year  \\\n",
       "0     0.052329   0.567851    0.218042          0  0.010970         1  2022   \n",
       "1     0.667934   0.559187    0.288167          0  0.013384         1  2022   \n",
       "2     0.651071   0.571498    0.316898          0  0.010252         1  2022   \n",
       "3     0.614450   0.601049    0.371682          0  0.011177         1  2022   \n",
       "4     0.614737   0.539817    0.306915          0  0.015247         1  2022   \n",
       "...        ...        ...         ...        ...       ...       ...   ...   \n",
       "1882  0.804123   0.433612    0.370343          1  0.017676         1  2022   \n",
       "1883  0.804079   0.433388    0.284636          1  0.006471         1  2022   \n",
       "1884  0.805308   0.418245    0.293280          1  0.006623         1  2022   \n",
       "1885  0.815319   0.413071    0.251157          1  0.003532         1  2022   \n",
       "1886  0.530973   0.673092    0.099099          0  0.009507         0  2022   \n",
       "\n",
       "      month  day scan_binned  \n",
       "0         5   11           2  \n",
       "1         5   11           2  \n",
       "2         5   11           2  \n",
       "3         5   11           2  \n",
       "4         5   11           2  \n",
       "...     ...  ...         ...  \n",
       "1882      5   18           1  \n",
       "1883      5   18           1  \n",
       "1884      5   18           1  \n",
       "1885      5   18           2  \n",
       "1886      5   18           2  \n",
       "\n",
       "[1887 rows x 10 columns]>"
      ]
     },
     "execution_count": 85,
     "metadata": {},
     "output_type": "execute_result"
    }
   ],
   "source": [
    "X.head\n"
   ]
  },
  {
   "cell_type": "code",
   "execution_count": 86,
   "id": "69e55605",
   "metadata": {},
   "outputs": [
    {
     "data": {
      "text/plain": [
       "(1887, 10)"
      ]
     },
     "execution_count": 86,
     "metadata": {},
     "output_type": "execute_result"
    }
   ],
   "source": [
    "X.shape"
   ]
  },
  {
   "cell_type": "markdown",
   "id": "e849aa6c",
   "metadata": {},
   "source": [
    "# Splitting the dataset into train and test "
   ]
  },
  {
   "cell_type": "code",
   "execution_count": 87,
   "id": "0b8b44c0",
   "metadata": {},
   "outputs": [],
   "source": [
    "from sklearn.model_selection import train_test_split\n",
    "X_train, X_test, y_train, y_test = train_test_split(X, y, test_size = 0.2, random_state = 0)"
   ]
  },
  {
   "cell_type": "code",
   "execution_count": 88,
   "id": "c04f9c95",
   "metadata": {},
   "outputs": [
    {
     "data": {
      "text/html": [
       "<div>\n",
       "<style scoped>\n",
       "    .dataframe tbody tr th:only-of-type {\n",
       "        vertical-align: middle;\n",
       "    }\n",
       "\n",
       "    .dataframe tbody tr th {\n",
       "        vertical-align: top;\n",
       "    }\n",
       "\n",
       "    .dataframe thead th {\n",
       "        text-align: right;\n",
       "    }\n",
       "</style>\n",
       "<table border=\"1\" class=\"dataframe\">\n",
       "  <thead>\n",
       "    <tr style=\"text-align: right;\">\n",
       "      <th></th>\n",
       "      <th>latitude</th>\n",
       "      <th>longitude</th>\n",
       "      <th>brightness</th>\n",
       "      <th>satellite</th>\n",
       "      <th>frp</th>\n",
       "      <th>daynight</th>\n",
       "      <th>year</th>\n",
       "      <th>month</th>\n",
       "      <th>day</th>\n",
       "      <th>scan_binned</th>\n",
       "    </tr>\n",
       "  </thead>\n",
       "  <tbody>\n",
       "    <tr>\n",
       "      <th>1649</th>\n",
       "      <td>0.545962</td>\n",
       "      <td>0.559014</td>\n",
       "      <td>0.407232</td>\n",
       "      <td>1</td>\n",
       "      <td>0.031363</td>\n",
       "      <td>1</td>\n",
       "      <td>2022</td>\n",
       "      <td>5</td>\n",
       "      <td>17</td>\n",
       "      <td>3</td>\n",
       "    </tr>\n",
       "    <tr>\n",
       "      <th>385</th>\n",
       "      <td>0.443757</td>\n",
       "      <td>0.649443</td>\n",
       "      <td>0.319455</td>\n",
       "      <td>0</td>\n",
       "      <td>0.009742</td>\n",
       "      <td>1</td>\n",
       "      <td>2022</td>\n",
       "      <td>5</td>\n",
       "      <td>13</td>\n",
       "      <td>2</td>\n",
       "    </tr>\n",
       "    <tr>\n",
       "      <th>930</th>\n",
       "      <td>0.787546</td>\n",
       "      <td>0.453412</td>\n",
       "      <td>0.123691</td>\n",
       "      <td>1</td>\n",
       "      <td>0.008431</td>\n",
       "      <td>0</td>\n",
       "      <td>2022</td>\n",
       "      <td>5</td>\n",
       "      <td>14</td>\n",
       "      <td>2</td>\n",
       "    </tr>\n",
       "    <tr>\n",
       "      <th>1387</th>\n",
       "      <td>0.307078</td>\n",
       "      <td>0.476920</td>\n",
       "      <td>0.415632</td>\n",
       "      <td>1</td>\n",
       "      <td>0.020573</td>\n",
       "      <td>1</td>\n",
       "      <td>2022</td>\n",
       "      <td>5</td>\n",
       "      <td>16</td>\n",
       "      <td>2</td>\n",
       "    </tr>\n",
       "    <tr>\n",
       "      <th>347</th>\n",
       "      <td>0.504513</td>\n",
       "      <td>0.535686</td>\n",
       "      <td>0.124178</td>\n",
       "      <td>0</td>\n",
       "      <td>0.005906</td>\n",
       "      <td>0</td>\n",
       "      <td>2022</td>\n",
       "      <td>5</td>\n",
       "      <td>12</td>\n",
       "      <td>2</td>\n",
       "    </tr>\n",
       "    <tr>\n",
       "      <th>...</th>\n",
       "      <td>...</td>\n",
       "      <td>...</td>\n",
       "      <td>...</td>\n",
       "      <td>...</td>\n",
       "      <td>...</td>\n",
       "      <td>...</td>\n",
       "      <td>...</td>\n",
       "      <td>...</td>\n",
       "      <td>...</td>\n",
       "      <td>...</td>\n",
       "    </tr>\n",
       "    <tr>\n",
       "      <th>835</th>\n",
       "      <td>0.758727</td>\n",
       "      <td>0.416001</td>\n",
       "      <td>0.418432</td>\n",
       "      <td>1</td>\n",
       "      <td>0.023402</td>\n",
       "      <td>1</td>\n",
       "      <td>2022</td>\n",
       "      <td>5</td>\n",
       "      <td>14</td>\n",
       "      <td>2</td>\n",
       "    </tr>\n",
       "    <tr>\n",
       "      <th>1216</th>\n",
       "      <td>0.811966</td>\n",
       "      <td>0.410104</td>\n",
       "      <td>0.300706</td>\n",
       "      <td>0</td>\n",
       "      <td>0.022257</td>\n",
       "      <td>0</td>\n",
       "      <td>2022</td>\n",
       "      <td>5</td>\n",
       "      <td>15</td>\n",
       "      <td>2</td>\n",
       "    </tr>\n",
       "    <tr>\n",
       "      <th>1653</th>\n",
       "      <td>0.538891</td>\n",
       "      <td>0.514767</td>\n",
       "      <td>0.404431</td>\n",
       "      <td>1</td>\n",
       "      <td>0.050212</td>\n",
       "      <td>1</td>\n",
       "      <td>2022</td>\n",
       "      <td>5</td>\n",
       "      <td>17</td>\n",
       "      <td>4</td>\n",
       "    </tr>\n",
       "    <tr>\n",
       "      <th>559</th>\n",
       "      <td>0.845890</td>\n",
       "      <td>0.392680</td>\n",
       "      <td>0.028610</td>\n",
       "      <td>0</td>\n",
       "      <td>0.004926</td>\n",
       "      <td>0</td>\n",
       "      <td>2022</td>\n",
       "      <td>5</td>\n",
       "      <td>13</td>\n",
       "      <td>2</td>\n",
       "    </tr>\n",
       "    <tr>\n",
       "      <th>684</th>\n",
       "      <td>0.737605</td>\n",
       "      <td>0.421133</td>\n",
       "      <td>0.441807</td>\n",
       "      <td>0</td>\n",
       "      <td>0.029666</td>\n",
       "      <td>1</td>\n",
       "      <td>2022</td>\n",
       "      <td>5</td>\n",
       "      <td>14</td>\n",
       "      <td>2</td>\n",
       "    </tr>\n",
       "  </tbody>\n",
       "</table>\n",
       "<p>1509 rows × 10 columns</p>\n",
       "</div>"
      ],
      "text/plain": [
       "      latitude  longitude  brightness  satellite       frp  daynight  year  \\\n",
       "1649  0.545962   0.559014    0.407232          1  0.031363         1  2022   \n",
       "385   0.443757   0.649443    0.319455          0  0.009742         1  2022   \n",
       "930   0.787546   0.453412    0.123691          1  0.008431         0  2022   \n",
       "1387  0.307078   0.476920    0.415632          1  0.020573         1  2022   \n",
       "347   0.504513   0.535686    0.124178          0  0.005906         0  2022   \n",
       "...        ...        ...         ...        ...       ...       ...   ...   \n",
       "835   0.758727   0.416001    0.418432          1  0.023402         1  2022   \n",
       "1216  0.811966   0.410104    0.300706          0  0.022257         0  2022   \n",
       "1653  0.538891   0.514767    0.404431          1  0.050212         1  2022   \n",
       "559   0.845890   0.392680    0.028610          0  0.004926         0  2022   \n",
       "684   0.737605   0.421133    0.441807          0  0.029666         1  2022   \n",
       "\n",
       "      month  day scan_binned  \n",
       "1649      5   17           3  \n",
       "385       5   13           2  \n",
       "930       5   14           2  \n",
       "1387      5   16           2  \n",
       "347       5   12           2  \n",
       "...     ...  ...         ...  \n",
       "835       5   14           2  \n",
       "1216      5   15           2  \n",
       "1653      5   17           4  \n",
       "559       5   13           2  \n",
       "684       5   14           2  \n",
       "\n",
       "[1509 rows x 10 columns]"
      ]
     },
     "execution_count": 88,
     "metadata": {},
     "output_type": "execute_result"
    }
   ],
   "source": [
    "X_train"
   ]
  },
  {
   "cell_type": "code",
   "execution_count": 89,
   "id": "ac529d57",
   "metadata": {},
   "outputs": [
    {
     "data": {
      "text/plain": [
       "1649     66\n",
       "385      58\n",
       "930      81\n",
       "1387     74\n",
       "347      74\n",
       "       ... \n",
       "835      47\n",
       "1216    100\n",
       "1653     65\n",
       "559      38\n",
       "684      75\n",
       "Name: confidence, Length: 1509, dtype: int64"
      ]
     },
     "execution_count": 89,
     "metadata": {},
     "output_type": "execute_result"
    }
   ],
   "source": [
    "y_train"
   ]
  },
  {
   "cell_type": "code",
   "execution_count": 90,
   "id": "537938f5",
   "metadata": {},
   "outputs": [
    {
     "data": {
      "text/plain": [
       "latitude       0\n",
       "longitude      0\n",
       "brightness     0\n",
       "satellite      0\n",
       "frp            0\n",
       "daynight       0\n",
       "year           0\n",
       "month          0\n",
       "day            0\n",
       "scan_binned    0\n",
       "dtype: int64"
      ]
     },
     "execution_count": 90,
     "metadata": {},
     "output_type": "execute_result"
    }
   ],
   "source": [
    "X_train.isnull().sum()"
   ]
  },
  {
   "cell_type": "code",
   "execution_count": 91,
   "id": "81992ad5",
   "metadata": {},
   "outputs": [],
   "source": [
    "X_train['scan_binned'].fillna(wildlife['scan_binned'].mode()[0], inplace=True)"
   ]
  },
  {
   "cell_type": "code",
   "execution_count": 92,
   "id": "978e29db",
   "metadata": {},
   "outputs": [
    {
     "data": {
      "text/plain": [
       "latitude       0\n",
       "longitude      0\n",
       "brightness     0\n",
       "satellite      0\n",
       "frp            0\n",
       "daynight       0\n",
       "year           0\n",
       "month          0\n",
       "day            0\n",
       "scan_binned    0\n",
       "dtype: int64"
      ]
     },
     "execution_count": 92,
     "metadata": {},
     "output_type": "execute_result"
    }
   ],
   "source": [
    "X_train.isnull().sum()"
   ]
  },
  {
   "cell_type": "code",
   "execution_count": 94,
   "id": "3f475dc8",
   "metadata": {},
   "outputs": [
    {
     "data": {
      "text/html": [
       "<style>#sk-container-id-3 {color: black;background-color: white;}#sk-container-id-3 pre{padding: 0;}#sk-container-id-3 div.sk-toggleable {background-color: white;}#sk-container-id-3 label.sk-toggleable__label {cursor: pointer;display: block;width: 100%;margin-bottom: 0;padding: 0.3em;box-sizing: border-box;text-align: center;}#sk-container-id-3 label.sk-toggleable__label-arrow:before {content: \"▸\";float: left;margin-right: 0.25em;color: #696969;}#sk-container-id-3 label.sk-toggleable__label-arrow:hover:before {color: black;}#sk-container-id-3 div.sk-estimator:hover label.sk-toggleable__label-arrow:before {color: black;}#sk-container-id-3 div.sk-toggleable__content {max-height: 0;max-width: 0;overflow: hidden;text-align: left;background-color: #f0f8ff;}#sk-container-id-3 div.sk-toggleable__content pre {margin: 0.2em;color: black;border-radius: 0.25em;background-color: #f0f8ff;}#sk-container-id-3 input.sk-toggleable__control:checked~div.sk-toggleable__content {max-height: 200px;max-width: 100%;overflow: auto;}#sk-container-id-3 input.sk-toggleable__control:checked~label.sk-toggleable__label-arrow:before {content: \"▾\";}#sk-container-id-3 div.sk-estimator input.sk-toggleable__control:checked~label.sk-toggleable__label {background-color: #d4ebff;}#sk-container-id-3 div.sk-label input.sk-toggleable__control:checked~label.sk-toggleable__label {background-color: #d4ebff;}#sk-container-id-3 input.sk-hidden--visually {border: 0;clip: rect(1px 1px 1px 1px);clip: rect(1px, 1px, 1px, 1px);height: 1px;margin: -1px;overflow: hidden;padding: 0;position: absolute;width: 1px;}#sk-container-id-3 div.sk-estimator {font-family: monospace;background-color: #f0f8ff;border: 1px dotted black;border-radius: 0.25em;box-sizing: border-box;margin-bottom: 0.5em;}#sk-container-id-3 div.sk-estimator:hover {background-color: #d4ebff;}#sk-container-id-3 div.sk-parallel-item::after {content: \"\";width: 100%;border-bottom: 1px solid gray;flex-grow: 1;}#sk-container-id-3 div.sk-label:hover label.sk-toggleable__label {background-color: #d4ebff;}#sk-container-id-3 div.sk-serial::before {content: \"\";position: absolute;border-left: 1px solid gray;box-sizing: border-box;top: 0;bottom: 0;left: 50%;z-index: 0;}#sk-container-id-3 div.sk-serial {display: flex;flex-direction: column;align-items: center;background-color: white;padding-right: 0.2em;padding-left: 0.2em;position: relative;}#sk-container-id-3 div.sk-item {position: relative;z-index: 1;}#sk-container-id-3 div.sk-parallel {display: flex;align-items: stretch;justify-content: center;background-color: white;position: relative;}#sk-container-id-3 div.sk-item::before, #sk-container-id-3 div.sk-parallel-item::before {content: \"\";position: absolute;border-left: 1px solid gray;box-sizing: border-box;top: 0;bottom: 0;left: 50%;z-index: -1;}#sk-container-id-3 div.sk-parallel-item {display: flex;flex-direction: column;z-index: 1;position: relative;background-color: white;}#sk-container-id-3 div.sk-parallel-item:first-child::after {align-self: flex-end;width: 50%;}#sk-container-id-3 div.sk-parallel-item:last-child::after {align-self: flex-start;width: 50%;}#sk-container-id-3 div.sk-parallel-item:only-child::after {width: 0;}#sk-container-id-3 div.sk-dashed-wrapped {border: 1px dashed gray;margin: 0 0.4em 0.5em 0.4em;box-sizing: border-box;padding-bottom: 0.4em;background-color: white;}#sk-container-id-3 div.sk-label label {font-family: monospace;font-weight: bold;display: inline-block;line-height: 1.2em;}#sk-container-id-3 div.sk-label-container {text-align: center;}#sk-container-id-3 div.sk-container {/* jupyter's `normalize.less` sets `[hidden] { display: none; }` but bootstrap.min.css set `[hidden] { display: none !important; }` so we also need the `!important` here to be able to override the default hidden behavior on the sphinx rendered scikit-learn.org. See: https://github.com/scikit-learn/scikit-learn/issues/21755 */display: inline-block !important;position: relative;}#sk-container-id-3 div.sk-text-repr-fallback {display: none;}</style><div id=\"sk-container-id-3\" class=\"sk-top-container\"><div class=\"sk-text-repr-fallback\"><pre>RandomForestRegressor()</pre><b>In a Jupyter environment, please rerun this cell to show the HTML representation or trust the notebook. <br />On GitHub, the HTML representation is unable to render, please try loading this page with nbviewer.org.</b></div><div class=\"sk-container\" hidden><div class=\"sk-item\"><div class=\"sk-estimator sk-toggleable\"><input class=\"sk-toggleable__control sk-hidden--visually\" id=\"sk-estimator-id-3\" type=\"checkbox\" checked><label for=\"sk-estimator-id-3\" class=\"sk-toggleable__label sk-toggleable__label-arrow\">RandomForestRegressor</label><div class=\"sk-toggleable__content\"><pre>RandomForestRegressor()</pre></div></div></div></div></div>"
      ],
      "text/plain": [
       "RandomForestRegressor()"
      ]
     },
     "execution_count": 94,
     "metadata": {},
     "output_type": "execute_result"
    }
   ],
   "source": [
    "from sklearn.ensemble import RandomForestRegressor\n",
    "from sklearn.tree import DecisionTreeRegressor\n",
    " # create regressor object\n",
    "model = RandomForestRegressor()\n",
    "model.fit(X_train,y_train)"
   ]
  },
  {
   "cell_type": "code",
   "execution_count": 95,
   "id": "5b838372",
   "metadata": {},
   "outputs": [],
   "source": [
    "#Building the Linear Regression Model \n",
    "#from sklearn.linear_model import LinearRegression\n",
    "\n",
    "#model = LinearRegression()\n",
    "#model.fit(X_train, y_train)"
   ]
  },
  {
   "cell_type": "code",
   "execution_count": 96,
   "id": "2d035dba",
   "metadata": {},
   "outputs": [
    {
     "data": {
      "text/plain": [
       "4.223839855853826"
      ]
     },
     "execution_count": 96,
     "metadata": {},
     "output_type": "execute_result"
    }
   ],
   "source": [
    "from sklearn.metrics import mean_squared_error\n",
    "y_pred=model.predict(X_train)\n",
    "mean_squared_error(y_train,y_pred,squared=False)"
   ]
  },
  {
   "cell_type": "code",
   "execution_count": 97,
   "id": "2b79aec3",
   "metadata": {},
   "outputs": [
    {
     "data": {
      "text/plain": [
       "100"
      ]
     },
     "execution_count": 97,
     "metadata": {},
     "output_type": "execute_result"
    }
   ],
   "source": [
    "y_train.max()"
   ]
  },
  {
   "cell_type": "code",
   "execution_count": 98,
   "id": "08b0603a",
   "metadata": {},
   "outputs": [
    {
     "data": {
      "text/plain": [
       "579      71\n",
       "1183     58\n",
       "1010    100\n",
       "1330     25\n",
       "77       55\n",
       "       ... \n",
       "268      80\n",
       "708      91\n",
       "31       52\n",
       "1560     42\n",
       "1031     52\n",
       "Name: confidence, Length: 378, dtype: int64"
      ]
     },
     "execution_count": 98,
     "metadata": {},
     "output_type": "execute_result"
    }
   ],
   "source": [
    "y_test"
   ]
  },
  {
   "cell_type": "code",
   "execution_count": 99,
   "id": "dd988b2c",
   "metadata": {},
   "outputs": [],
   "source": [
    "X_test['scan_binned'].fillna(wildlife['scan_binned'].mode()[0], inplace=True)"
   ]
  },
  {
   "cell_type": "code",
   "execution_count": 100,
   "id": "de882d79",
   "metadata": {},
   "outputs": [
    {
     "data": {
      "text/html": [
       "<div>\n",
       "<style scoped>\n",
       "    .dataframe tbody tr th:only-of-type {\n",
       "        vertical-align: middle;\n",
       "    }\n",
       "\n",
       "    .dataframe tbody tr th {\n",
       "        vertical-align: top;\n",
       "    }\n",
       "\n",
       "    .dataframe thead th {\n",
       "        text-align: right;\n",
       "    }\n",
       "</style>\n",
       "<table border=\"1\" class=\"dataframe\">\n",
       "  <thead>\n",
       "    <tr style=\"text-align: right;\">\n",
       "      <th></th>\n",
       "      <th>latitude</th>\n",
       "      <th>longitude</th>\n",
       "      <th>brightness</th>\n",
       "      <th>satellite</th>\n",
       "      <th>frp</th>\n",
       "      <th>daynight</th>\n",
       "      <th>year</th>\n",
       "      <th>month</th>\n",
       "      <th>day</th>\n",
       "      <th>scan_binned</th>\n",
       "    </tr>\n",
       "  </thead>\n",
       "  <tbody>\n",
       "    <tr>\n",
       "      <th>579</th>\n",
       "      <td>0.408737</td>\n",
       "      <td>0.462170</td>\n",
       "      <td>0.098003</td>\n",
       "      <td>0</td>\n",
       "      <td>0.007603</td>\n",
       "      <td>0</td>\n",
       "      <td>2022</td>\n",
       "      <td>5</td>\n",
       "      <td>13</td>\n",
       "      <td>2</td>\n",
       "    </tr>\n",
       "    <tr>\n",
       "      <th>1183</th>\n",
       "      <td>0.741374</td>\n",
       "      <td>0.494188</td>\n",
       "      <td>0.070124</td>\n",
       "      <td>0</td>\n",
       "      <td>0.009976</td>\n",
       "      <td>0</td>\n",
       "      <td>2022</td>\n",
       "      <td>5</td>\n",
       "      <td>15</td>\n",
       "      <td>2</td>\n",
       "    </tr>\n",
       "    <tr>\n",
       "      <th>1010</th>\n",
       "      <td>0.635515</td>\n",
       "      <td>0.338133</td>\n",
       "      <td>0.756270</td>\n",
       "      <td>0</td>\n",
       "      <td>0.130752</td>\n",
       "      <td>1</td>\n",
       "      <td>2022</td>\n",
       "      <td>5</td>\n",
       "      <td>15</td>\n",
       "      <td>2</td>\n",
       "    </tr>\n",
       "    <tr>\n",
       "      <th>1330</th>\n",
       "      <td>0.257648</td>\n",
       "      <td>0.971113</td>\n",
       "      <td>0.204285</td>\n",
       "      <td>1</td>\n",
       "      <td>0.002566</td>\n",
       "      <td>1</td>\n",
       "      <td>2022</td>\n",
       "      <td>5</td>\n",
       "      <td>16</td>\n",
       "      <td>1</td>\n",
       "    </tr>\n",
       "    <tr>\n",
       "      <th>77</th>\n",
       "      <td>0.741608</td>\n",
       "      <td>0.448199</td>\n",
       "      <td>0.392379</td>\n",
       "      <td>1</td>\n",
       "      <td>0.009507</td>\n",
       "      <td>1</td>\n",
       "      <td>2022</td>\n",
       "      <td>5</td>\n",
       "      <td>11</td>\n",
       "      <td>2</td>\n",
       "    </tr>\n",
       "    <tr>\n",
       "      <th>...</th>\n",
       "      <td>...</td>\n",
       "      <td>...</td>\n",
       "      <td>...</td>\n",
       "      <td>...</td>\n",
       "      <td>...</td>\n",
       "      <td>...</td>\n",
       "      <td>...</td>\n",
       "      <td>...</td>\n",
       "      <td>...</td>\n",
       "      <td>...</td>\n",
       "    </tr>\n",
       "    <tr>\n",
       "      <th>268</th>\n",
       "      <td>0.729880</td>\n",
       "      <td>0.426642</td>\n",
       "      <td>0.470295</td>\n",
       "      <td>0</td>\n",
       "      <td>0.014171</td>\n",
       "      <td>1</td>\n",
       "      <td>2022</td>\n",
       "      <td>5</td>\n",
       "      <td>12</td>\n",
       "      <td>2</td>\n",
       "    </tr>\n",
       "    <tr>\n",
       "      <th>708</th>\n",
       "      <td>0.688739</td>\n",
       "      <td>0.459992</td>\n",
       "      <td>0.589238</td>\n",
       "      <td>0</td>\n",
       "      <td>0.044637</td>\n",
       "      <td>1</td>\n",
       "      <td>2022</td>\n",
       "      <td>5</td>\n",
       "      <td>14</td>\n",
       "      <td>2</td>\n",
       "    </tr>\n",
       "    <tr>\n",
       "      <th>31</th>\n",
       "      <td>0.464895</td>\n",
       "      <td>0.523205</td>\n",
       "      <td>0.385439</td>\n",
       "      <td>1</td>\n",
       "      <td>0.011425</td>\n",
       "      <td>1</td>\n",
       "      <td>2022</td>\n",
       "      <td>5</td>\n",
       "      <td>11</td>\n",
       "      <td>1</td>\n",
       "    </tr>\n",
       "    <tr>\n",
       "      <th>1560</th>\n",
       "      <td>0.532533</td>\n",
       "      <td>0.910084</td>\n",
       "      <td>0.170684</td>\n",
       "      <td>0</td>\n",
       "      <td>0.009714</td>\n",
       "      <td>1</td>\n",
       "      <td>2022</td>\n",
       "      <td>5</td>\n",
       "      <td>17</td>\n",
       "      <td>2</td>\n",
       "    </tr>\n",
       "    <tr>\n",
       "      <th>1031</th>\n",
       "      <td>0.411463</td>\n",
       "      <td>0.624607</td>\n",
       "      <td>0.241539</td>\n",
       "      <td>1</td>\n",
       "      <td>0.007465</td>\n",
       "      <td>1</td>\n",
       "      <td>2022</td>\n",
       "      <td>5</td>\n",
       "      <td>15</td>\n",
       "      <td>2</td>\n",
       "    </tr>\n",
       "  </tbody>\n",
       "</table>\n",
       "<p>378 rows × 10 columns</p>\n",
       "</div>"
      ],
      "text/plain": [
       "      latitude  longitude  brightness  satellite       frp  daynight  year  \\\n",
       "579   0.408737   0.462170    0.098003          0  0.007603         0  2022   \n",
       "1183  0.741374   0.494188    0.070124          0  0.009976         0  2022   \n",
       "1010  0.635515   0.338133    0.756270          0  0.130752         1  2022   \n",
       "1330  0.257648   0.971113    0.204285          1  0.002566         1  2022   \n",
       "77    0.741608   0.448199    0.392379          1  0.009507         1  2022   \n",
       "...        ...        ...         ...        ...       ...       ...   ...   \n",
       "268   0.729880   0.426642    0.470295          0  0.014171         1  2022   \n",
       "708   0.688739   0.459992    0.589238          0  0.044637         1  2022   \n",
       "31    0.464895   0.523205    0.385439          1  0.011425         1  2022   \n",
       "1560  0.532533   0.910084    0.170684          0  0.009714         1  2022   \n",
       "1031  0.411463   0.624607    0.241539          1  0.007465         1  2022   \n",
       "\n",
       "      month  day scan_binned  \n",
       "579       5   13           2  \n",
       "1183      5   15           2  \n",
       "1010      5   15           2  \n",
       "1330      5   16           1  \n",
       "77        5   11           2  \n",
       "...     ...  ...         ...  \n",
       "268       5   12           2  \n",
       "708       5   14           2  \n",
       "31        5   11           1  \n",
       "1560      5   17           2  \n",
       "1031      5   15           2  \n",
       "\n",
       "[378 rows x 10 columns]"
      ]
     },
     "execution_count": 100,
     "metadata": {},
     "output_type": "execute_result"
    }
   ],
   "source": [
    "X_test"
   ]
  },
  {
   "cell_type": "code",
   "execution_count": 101,
   "id": "96859d2f",
   "metadata": {},
   "outputs": [
    {
     "data": {
      "text/plain": [
       "array([67.61, 59.04, 99.98, 50.5 , 71.45, 52.15, 52.08, 97.61, 61.43,\n",
       "       29.86, 59.23, 78.11, 69.67, 82.53, 58.29, 50.96, 78.78, 74.81,\n",
       "       73.3 , 78.76, 71.27, 85.25, 54.41, 64.45, 42.17, 69.51, 69.94,\n",
       "       74.15, 81.94, 73.76, 48.82, 65.29, 82.24, 92.23, 58.74, 68.1 ,\n",
       "       59.58, 66.65, 71.89, 48.56, 59.74, 73.3 , 57.39, 48.59, 62.27,\n",
       "       84.09, 49.63, 45.32, 77.89, 61.43, 45.91, 72.17, 74.92, 96.78,\n",
       "       71.45, 73.07, 75.35, 72.91, 69.66, 61.89, 62.16, 71.31, 49.63,\n",
       "       73.53, 41.76, 71.86, 73.26, 70.58, 65.71, 61.51, 71.29, 62.55,\n",
       "       65.37, 47.85, 60.88, 79.53, 59.24, 69.59, 66.44, 97.95, 53.62,\n",
       "       67.4 , 69.63, 70.51, 64.2 , 71.36, 83.01, 89.35, 71.61, 78.73,\n",
       "       76.15, 75.33, 64.29, 36.54, 68.74, 49.06, 55.75, 76.26, 56.21,\n",
       "       93.45, 49.94, 99.2 , 74.61, 51.63, 81.24, 68.44, 59.01, 96.88,\n",
       "       63.32, 71.96, 46.35, 51.21, 68.56, 99.49, 62.37, 49.13, 57.42,\n",
       "       48.41, 68.73, 74.23, 72.18, 62.89, 60.43, 74.61, 85.89, 72.67,\n",
       "       52.47, 81.87, 58.42, 44.94, 57.7 , 68.99, 69.63, 77.13, 76.21,\n",
       "       60.69, 59.59, 66.42, 43.33, 64.88, 71.69, 84.83, 58.17, 94.93,\n",
       "       85.25, 44.26, 61.61, 66.82, 60.39, 46.07, 67.2 , 79.33, 43.71,\n",
       "       79.71, 59.35, 67.02, 85.22, 77.87, 68.62, 44.71, 45.25, 74.71,\n",
       "       68.21, 64.72, 56.98, 78.03, 63.31, 56.62, 83.66, 60.  , 71.41,\n",
       "       62.75, 71.43, 58.64, 58.21, 86.22, 72.6 , 81.62, 62.07, 57.76,\n",
       "       46.51, 42.94, 40.39, 60.99, 53.76, 38.32, 43.78, 79.22, 98.75,\n",
       "       58.13, 69.63, 55.01, 67.23, 67.96, 72.22, 68.9 , 68.  , 70.7 ,\n",
       "       70.45, 68.71, 68.14, 78.02, 82.31, 68.12, 67.11, 99.91, 70.92,\n",
       "       61.41, 55.63, 96.06, 68.86, 74.24, 68.35, 75.41, 56.96, 71.07,\n",
       "       64.11, 70.34, 50.9 , 62.74, 63.17, 42.23, 77.62, 70.05, 28.26,\n",
       "       62.83, 58.45, 49.93, 68.43, 57.83, 86.22, 94.77, 66.41, 54.74,\n",
       "       61.97, 45.78, 54.28, 99.98, 59.91, 60.68, 29.24, 79.97, 59.32,\n",
       "       74.31, 96.42, 64.54, 60.94, 72.32, 79.13, 59.61, 73.2 , 62.11,\n",
       "       61.92, 69.84, 64.89, 83.54, 49.94, 75.22, 35.82, 50.39, 35.72,\n",
       "       69.5 , 55.36, 80.04, 46.04, 47.21, 70.41, 60.7 , 89.21, 60.14,\n",
       "       75.26, 61.65, 64.82, 46.42, 56.7 , 77.98, 70.79, 65.22, 50.68,\n",
       "       70.05, 54.63, 66.56, 42.54, 54.13, 54.18, 75.47, 57.26, 87.4 ,\n",
       "       37.87, 62.7 , 59.33, 75.98, 76.57, 98.79, 80.96, 78.17, 64.61,\n",
       "       97.48, 78.77, 52.58, 71.68, 46.76, 87.11, 48.5 , 81.17, 62.72,\n",
       "       49.05, 95.38, 89.51, 54.29, 68.14, 53.71, 80.02, 69.5 , 76.33,\n",
       "       64.85, 64.03, 68.15, 87.28, 54.  , 66.08, 84.41, 37.82, 81.87,\n",
       "       80.69, 86.18, 66.11, 69.09, 61.55, 47.78, 64.67, 76.19, 62.89,\n",
       "       61.18, 58.09, 66.11, 35.24, 61.48, 47.32, 85.71, 55.65, 67.84,\n",
       "       56.89, 77.55, 72.37, 66.93, 69.97, 66.04, 71.97, 63.75, 46.26,\n",
       "       77.59, 61.88, 69.05, 68.95, 70.78, 54.84, 44.43, 60.71, 65.49,\n",
       "       71.93, 78.48, 73.14, 69.04, 82.53, 84.45, 99.41, 53.43, 53.74,\n",
       "       83.79, 98.92, 62.33, 97.97, 77.5 , 92.34, 60.31, 45.79, 45.36])"
      ]
     },
     "execution_count": 101,
     "metadata": {},
     "output_type": "execute_result"
    }
   ],
   "source": [
    "y_predict = model.predict(X_test) \n",
    "y_predict"
   ]
  },
  {
   "cell_type": "code",
   "execution_count": 102,
   "id": "18a08742",
   "metadata": {},
   "outputs": [
    {
     "data": {
      "text/plain": [
       "11.022372162798627"
      ]
     },
     "execution_count": 102,
     "metadata": {},
     "output_type": "execute_result"
    }
   ],
   "source": [
    "mean_squared_error(y_test,y_predict,squared=False)"
   ]
  },
  {
   "cell_type": "code",
   "execution_count": 103,
   "id": "3da3ff21",
   "metadata": {},
   "outputs": [],
   "source": [
    "def conf(lat,long,br,sat,frp,dn,yr,mn,day,scan):\n",
    "    #arr=[lat,long,br,frp,dn,scan,yr,mn,day];\n",
    "    dict = {'latitude': lat, 'longitude': long,'brightness':br,'satellite':sat, 'frp': frp, 'daynight': dn, 'year': yr, 'month': mn, 'day': day,'scan_binned': scan}\n",
    "    df=pd.DataFrame(dict, index=[0])\n",
    "    ys=model.predict(df)\n",
    "    return ys\n",
    "    "
   ]
  },
  {
   "cell_type": "code",
   "execution_count": 104,
   "id": "eeaf20be",
   "metadata": {},
   "outputs": [],
   "source": [
    "def inp():\n",
    "    lat=input();\n",
    "    long=input();\n",
    "    br=input();\n",
    "    frp=input();\n",
    "    dn=input();\n",
    "    scan=input();\n",
    "    yr=input();\n",
    "    mn=input();\n",
    "    day=input();\n",
    "    sat=input();\n",
    "    print(conf(lat,long,br,sat,frp,dn,yr,mn,day,scan));  "
   ]
  },
  {
   "cell_type": "code",
   "execution_count": 106,
   "id": "567a2f53",
   "metadata": {},
   "outputs": [
    {
     "name": "stdout",
     "output_type": "stream",
     "text": [
      "[70.7]\n"
     ]
    }
   ],
   "source": [
    "inp()"
   ]
  },
  {
   "cell_type": "code",
   "execution_count": 97,
   "id": "b5204de7",
   "metadata": {},
   "outputs": [
    {
     "name": "stdout",
     "output_type": "stream",
     "text": [
      "Requirement already satisfied: gradio in c:\\users\\shreeyash pandey\\uh\\envs\\new\\lib\\site-packages (3.0.2)\n",
      "Requirement already satisfied: markdown-it-py[linkify,plugins] in c:\\users\\shreeyash pandey\\uh\\envs\\new\\lib\\site-packages (from gradio) (2.1.0)\n",
      "Requirement already satisfied: ffmpy in c:\\users\\shreeyash pandey\\uh\\envs\\new\\lib\\site-packages (from gradio) (0.3.0)\n",
      "Requirement already satisfied: pillow in c:\\users\\shreeyash pandey\\uh\\envs\\new\\lib\\site-packages (from gradio) (9.1.0)\n",
      "Requirement already satisfied: matplotlib in c:\\users\\shreeyash pandey\\uh\\envs\\new\\lib\\site-packages (from gradio) (3.5.1)\n",
      "Requirement already satisfied: Jinja2 in c:\\users\\shreeyash pandey\\uh\\envs\\new\\lib\\site-packages (from gradio) (3.0.3)\n",
      "Requirement already satisfied: aiohttp in c:\\users\\shreeyash pandey\\uh\\envs\\new\\lib\\site-packages (from gradio) (3.8.1)\n",
      "Requirement already satisfied: requests in c:\\users\\shreeyash pandey\\uh\\envs\\new\\lib\\site-packages (from gradio) (2.27.1)\n",
      "Requirement already satisfied: fastapi in c:\\users\\shreeyash pandey\\uh\\envs\\new\\lib\\site-packages (from gradio) (0.78.0)\n",
      "Requirement already satisfied: numpy in c:\\users\\shreeyash pandey\\uh\\envs\\new\\lib\\site-packages (from gradio) (1.21.5)\n",
      "Requirement already satisfied: uvicorn in c:\\users\\shreeyash pandey\\uh\\envs\\new\\lib\\site-packages (from gradio) (0.17.6)\n",
      "Requirement already satisfied: paramiko in c:\\users\\shreeyash pandey\\uh\\envs\\new\\lib\\site-packages (from gradio) (2.11.0)\n",
      "Requirement already satisfied: analytics-python in c:\\users\\shreeyash pandey\\uh\\envs\\new\\lib\\site-packages (from gradio) (1.4.0)\n",
      "Requirement already satisfied: pycryptodome in c:\\users\\shreeyash pandey\\uh\\envs\\new\\lib\\site-packages (from gradio) (3.14.1)\n",
      "Requirement already satisfied: python-multipart in c:\\users\\shreeyash pandey\\uh\\envs\\new\\lib\\site-packages (from gradio) (0.0.5)\n",
      "Requirement already satisfied: pandas in c:\\users\\shreeyash pandey\\uh\\envs\\new\\lib\\site-packages (from gradio) (1.4.1)\n",
      "Requirement already satisfied: pydub in c:\\users\\shreeyash pandey\\uh\\envs\\new\\lib\\site-packages (from gradio) (0.25.1)\n",
      "Requirement already satisfied: orjson in c:\\users\\shreeyash pandey\\uh\\envs\\new\\lib\\site-packages (from gradio) (3.6.8)\n",
      "Requirement already satisfied: async-timeout<5.0,>=4.0.0a3 in c:\\users\\shreeyash pandey\\uh\\envs\\new\\lib\\site-packages (from aiohttp->gradio) (4.0.1)\n",
      "Requirement already satisfied: multidict<7.0,>=4.5 in c:\\users\\shreeyash pandey\\uh\\envs\\new\\lib\\site-packages (from aiohttp->gradio) (5.1.0)\n",
      "Requirement already satisfied: frozenlist>=1.1.1 in c:\\users\\shreeyash pandey\\uh\\envs\\new\\lib\\site-packages (from aiohttp->gradio) (1.2.0)\n",
      "Requirement already satisfied: yarl<2.0,>=1.0 in c:\\users\\shreeyash pandey\\uh\\envs\\new\\lib\\site-packages (from aiohttp->gradio) (1.6.3)\n",
      "Requirement already satisfied: charset-normalizer<3.0,>=2.0 in c:\\users\\shreeyash pandey\\uh\\envs\\new\\lib\\site-packages (from aiohttp->gradio) (2.0.4)\n",
      "Requirement already satisfied: aiosignal>=1.1.2 in c:\\users\\shreeyash pandey\\uh\\envs\\new\\lib\\site-packages (from aiohttp->gradio) (1.2.0)\n",
      "Requirement already satisfied: attrs>=17.3.0 in c:\\users\\shreeyash pandey\\uh\\envs\\new\\lib\\site-packages (from aiohttp->gradio) (21.4.0)\n",
      "Requirement already satisfied: six>=1.5 in c:\\users\\shreeyash pandey\\uh\\envs\\new\\lib\\site-packages (from analytics-python->gradio) (1.16.0)\n",
      "Requirement already satisfied: backoff==1.10.0 in c:\\users\\shreeyash pandey\\uh\\envs\\new\\lib\\site-packages (from analytics-python->gradio) (1.10.0)\n",
      "Requirement already satisfied: monotonic>=1.5 in c:\\users\\shreeyash pandey\\uh\\envs\\new\\lib\\site-packages (from analytics-python->gradio) (1.6)\n",
      "Requirement already satisfied: python-dateutil>2.1 in c:\\users\\shreeyash pandey\\uh\\envs\\new\\lib\\site-packages (from analytics-python->gradio) (2.8.2)\n",
      "Requirement already satisfied: urllib3<1.27,>=1.21.1 in c:\\users\\shreeyash pandey\\uh\\envs\\new\\lib\\site-packages (from requests->gradio) (1.26.8)\n",
      "Requirement already satisfied: idna<4,>=2.5 in c:\\users\\shreeyash pandey\\uh\\envs\\new\\lib\\site-packages (from requests->gradio) (3.3)\n",
      "Requirement already satisfied: certifi>=2017.4.17 in c:\\users\\shreeyash pandey\\uh\\envs\\new\\lib\\site-packages (from requests->gradio) (2022.6.15)\n",
      "Requirement already satisfied: starlette==0.19.1 in c:\\users\\shreeyash pandey\\uh\\envs\\new\\lib\\site-packages (from fastapi->gradio) (0.19.1)\n",
      "Requirement already satisfied: pydantic!=1.7,!=1.7.1,!=1.7.2,!=1.7.3,!=1.8,!=1.8.1,<2.0.0,>=1.6.2 in c:\\users\\shreeyash pandey\\uh\\envs\\new\\lib\\site-packages (from fastapi->gradio) (1.9.0)\n",
      "Requirement already satisfied: typing-extensions>=3.10.0 in c:\\users\\shreeyash pandey\\uh\\envs\\new\\lib\\site-packages (from starlette==0.19.1->fastapi->gradio) (4.1.1)\n",
      "Requirement already satisfied: anyio<5,>=3.4.0 in c:\\users\\shreeyash pandey\\uh\\envs\\new\\lib\\site-packages (from starlette==0.19.1->fastapi->gradio) (3.6.1)\n",
      "Requirement already satisfied: MarkupSafe>=2.0 in c:\\users\\shreeyash pandey\\uh\\envs\\new\\lib\\site-packages (from Jinja2->gradio) (2.0.1)\n",
      "Requirement already satisfied: mdurl~=0.1 in c:\\users\\shreeyash pandey\\uh\\envs\\new\\lib\\site-packages (from markdown-it-py[linkify,plugins]->gradio) (0.1.1)\n",
      "Requirement already satisfied: mdit-py-plugins in c:\\users\\shreeyash pandey\\uh\\envs\\new\\lib\\site-packages (from markdown-it-py[linkify,plugins]->gradio) (0.3.0)\n",
      "Requirement already satisfied: linkify-it-py~=1.0 in c:\\users\\shreeyash pandey\\uh\\envs\\new\\lib\\site-packages (from markdown-it-py[linkify,plugins]->gradio) (1.0.3)\n",
      "Requirement already satisfied: packaging>=20.0 in c:\\users\\shreeyash pandey\\uh\\envs\\new\\lib\\site-packages (from matplotlib->gradio) (21.3)\n",
      "Requirement already satisfied: kiwisolver>=1.0.1 in c:\\users\\shreeyash pandey\\uh\\envs\\new\\lib\\site-packages (from matplotlib->gradio) (1.4.2)\n",
      "Requirement already satisfied: pyparsing>=2.2.1 in c:\\users\\shreeyash pandey\\uh\\envs\\new\\lib\\site-packages (from matplotlib->gradio) (3.0.4)\n",
      "Requirement already satisfied: fonttools>=4.22.0 in c:\\users\\shreeyash pandey\\uh\\envs\\new\\lib\\site-packages (from matplotlib->gradio) (4.31.2)\n",
      "Requirement already satisfied: cycler>=0.10 in c:\\users\\shreeyash pandey\\uh\\envs\\new\\lib\\site-packages (from matplotlib->gradio) (0.11.0)\n",
      "Requirement already satisfied: pytz>=2020.1 in c:\\users\\shreeyash pandey\\uh\\envs\\new\\lib\\site-packages (from pandas->gradio) (2021.3)\n",
      "Requirement already satisfied: cryptography>=2.5 in c:\\users\\shreeyash pandey\\uh\\envs\\new\\lib\\site-packages (from paramiko->gradio) (3.4.8)\n",
      "Requirement already satisfied: pynacl>=1.0.1 in c:\\users\\shreeyash pandey\\uh\\envs\\new\\lib\\site-packages (from paramiko->gradio) (1.5.0)\n",
      "Requirement already satisfied: bcrypt>=3.1.3 in c:\\users\\shreeyash pandey\\uh\\envs\\new\\lib\\site-packages (from paramiko->gradio) (3.2.2)\n",
      "Requirement already satisfied: h11>=0.8 in c:\\users\\shreeyash pandey\\uh\\envs\\new\\lib\\site-packages (from uvicorn->gradio) (0.13.0)\n",
      "Requirement already satisfied: asgiref>=3.4.0 in c:\\users\\shreeyash pandey\\uh\\envs\\new\\lib\\site-packages (from uvicorn->gradio) (3.5.2)\n",
      "Requirement already satisfied: click>=7.0 in c:\\users\\shreeyash pandey\\uh\\envs\\new\\lib\\site-packages (from uvicorn->gradio) (8.0.4)\n",
      "Requirement already satisfied: cffi>=1.1 in c:\\users\\shreeyash pandey\\uh\\envs\\new\\lib\\site-packages (from bcrypt>=3.1.3->paramiko->gradio) (1.15.0)\n",
      "Requirement already satisfied: colorama in c:\\users\\shreeyash pandey\\uh\\envs\\new\\lib\\site-packages (from click>=7.0->uvicorn->gradio) (0.4.4)\n",
      "Requirement already satisfied: uc-micro-py in c:\\users\\shreeyash pandey\\uh\\envs\\new\\lib\\site-packages (from linkify-it-py~=1.0->markdown-it-py[linkify,plugins]->gradio) (1.0.1)\n",
      "Requirement already satisfied: sniffio>=1.1 in c:\\users\\shreeyash pandey\\uh\\envs\\new\\lib\\site-packages (from anyio<5,>=3.4.0->starlette==0.19.1->fastapi->gradio) (1.2.0)\n",
      "Requirement already satisfied: pycparser in c:\\users\\shreeyash pandey\\uh\\envs\\new\\lib\\site-packages (from cffi>=1.1->bcrypt>=3.1.3->paramiko->gradio) (2.21)\n"
     ]
    },
    {
     "name": "stderr",
     "output_type": "stream",
     "text": [
      "WARNING: You are using pip version 22.0.4; however, version 22.1.2 is available.\n",
      "You should consider upgrading via the 'C:\\Users\\Shreeyash Pandey\\uh\\envs\\new\\python.exe -m pip install --upgrade pip' command.\n"
     ]
    }
   ],
   "source": [
    "!pip install gradio"
   ]
  },
  {
   "cell_type": "code",
   "execution_count": 98,
   "id": "15e576a6",
   "metadata": {},
   "outputs": [],
   "source": [
    "import gradio as gr"
   ]
  },
  {
   "cell_type": "code",
   "execution_count": 99,
   "id": "2c8dd31d",
   "metadata": {},
   "outputs": [],
   "source": [
    "interface=gr.Interface(fn=conf,\n",
    "                      inputs=[\"text\",\"text\",\"text\",\"text\",\"text\",\"text\",\"text\",\"text\",\"text\",\"text\"],outputs=[\"text\"])"
   ]
  },
  {
   "cell_type": "code",
   "execution_count": 100,
   "id": "880fa18d",
   "metadata": {},
   "outputs": [
    {
     "name": "stdout",
     "output_type": "stream",
     "text": [
      "Running on local URL:  http://127.0.0.1:7863/\n",
      "\n",
      "To create a public link, set `share=True` in `launch()`.\n"
     ]
    },
    {
     "data": {
      "text/html": [
       "\n",
       "        <iframe\n",
       "            width=\"900\"\n",
       "            height=\"500\"\n",
       "            src=\"http://127.0.0.1:7863/\"\n",
       "            frameborder=\"0\"\n",
       "            allowfullscreen\n",
       "            \n",
       "        ></iframe>\n",
       "        "
      ],
      "text/plain": [
       "<IPython.lib.display.IFrame at 0x194e7a03310>"
      ]
     },
     "metadata": {},
     "output_type": "display_data"
    },
    {
     "data": {
      "text/plain": [
       "(<gradio.routes.App at 0x194f47b4220>, 'http://127.0.0.1:7863/', None)"
      ]
     },
     "execution_count": 100,
     "metadata": {},
     "output_type": "execute_result"
    }
   ],
   "source": [
    "interface.launch()"
   ]
  },
  {
   "cell_type": "code",
   "execution_count": null,
   "id": "d1869005",
   "metadata": {},
   "outputs": [],
   "source": []
  },
  {
   "cell_type": "code",
   "execution_count": null,
   "id": "0ea3547a",
   "metadata": {},
   "outputs": [],
   "source": []
  },
  {
   "cell_type": "code",
   "execution_count": null,
   "id": "4d5602fa",
   "metadata": {},
   "outputs": [],
   "source": []
  },
  {
   "cell_type": "code",
   "execution_count": null,
   "id": "08ecf813",
   "metadata": {},
   "outputs": [],
   "source": []
  }
 ],
 "metadata": {
  "kernelspec": {
   "display_name": "Python 3 (ipykernel)",
   "language": "python",
   "name": "python3"
  },
  "language_info": {
   "codemirror_mode": {
    "name": "ipython",
    "version": 3
   },
   "file_extension": ".py",
   "mimetype": "text/x-python",
   "name": "python",
   "nbconvert_exporter": "python",
   "pygments_lexer": "ipython3",
   "version": "3.8.13"
  },
  "vscode": {
   "interpreter": {
    "hash": "42d631c97d3a7942c4c370955af34a4195632f6be3582dbc391d521a11ed78e3"
   }
  }
 },
 "nbformat": 4,
 "nbformat_minor": 5
}
