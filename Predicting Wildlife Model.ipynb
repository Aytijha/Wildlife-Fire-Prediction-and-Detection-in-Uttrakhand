{
 "cells": [
  {
   "cell_type": "code",
   "execution_count": 1,
   "id": "007b7a1e",
   "metadata": {},
   "outputs": [],
   "source": [
    "import datetime as dt\n",
    "\n",
    "import seaborn as sns\n",
    "import matplotlib.pyplot as plt\n",
    "%matplotlib inline \n"
   ]
  },
  {
   "cell_type": "code",
   "execution_count": 2,
   "id": "fdd65db6",
   "metadata": {},
   "outputs": [],
   "source": [
    "# importing libraries such as panadas for Dataframe and numpy for manupulating arrays\n",
    "import pandas as pd\n",
    "import numpy as np"
   ]
  },
  {
   "cell_type": "markdown",
   "id": "0d13bc60",
   "metadata": {},
   "source": [
    "# Reading CSV file  "
   ]
  },
  {
   "cell_type": "code",
   "execution_count": 3,
   "id": "e024d572",
   "metadata": {},
   "outputs": [],
   "source": [
    "wildlife = pd.read_csv(\"MODIS_C6_1_South_Asia_7d.csv\")"
   ]
  },
  {
   "cell_type": "code",
   "execution_count": 4,
   "id": "7d9b9d1c",
   "metadata": {},
   "outputs": [
    {
     "data": {
      "text/html": [
       "<div>\n",
       "<style scoped>\n",
       "    .dataframe tbody tr th:only-of-type {\n",
       "        vertical-align: middle;\n",
       "    }\n",
       "\n",
       "    .dataframe tbody tr th {\n",
       "        vertical-align: top;\n",
       "    }\n",
       "\n",
       "    .dataframe thead th {\n",
       "        text-align: right;\n",
       "    }\n",
       "</style>\n",
       "<table border=\"1\" class=\"dataframe\">\n",
       "  <thead>\n",
       "    <tr style=\"text-align: right;\">\n",
       "      <th></th>\n",
       "      <th>latitude</th>\n",
       "      <th>longitude</th>\n",
       "      <th>brightness</th>\n",
       "      <th>scan</th>\n",
       "      <th>track</th>\n",
       "      <th>acq_date</th>\n",
       "      <th>acq_time</th>\n",
       "      <th>satellite</th>\n",
       "      <th>confidence</th>\n",
       "      <th>version</th>\n",
       "      <th>bright_t31</th>\n",
       "      <th>frp</th>\n",
       "      <th>daynight</th>\n",
       "    </tr>\n",
       "  </thead>\n",
       "  <tbody>\n",
       "    <tr>\n",
       "      <th>0</th>\n",
       "      <td>7.37478</td>\n",
       "      <td>81.37296</td>\n",
       "      <td>318.39</td>\n",
       "      <td>1.01</td>\n",
       "      <td>1.01</td>\n",
       "      <td>2022-05-11</td>\n",
       "      <td>501</td>\n",
       "      <td>T</td>\n",
       "      <td>70</td>\n",
       "      <td>6.1NRT</td>\n",
       "      <td>292.44</td>\n",
       "      <td>11.15</td>\n",
       "      <td>D</td>\n",
       "    </tr>\n",
       "    <tr>\n",
       "      <th>1</th>\n",
       "      <td>28.47017</td>\n",
       "      <td>80.96015</td>\n",
       "      <td>324.15</td>\n",
       "      <td>1.46</td>\n",
       "      <td>1.19</td>\n",
       "      <td>2022-05-11</td>\n",
       "      <td>455</td>\n",
       "      <td>T</td>\n",
       "      <td>19</td>\n",
       "      <td>6.1NRT</td>\n",
       "      <td>299.90</td>\n",
       "      <td>12.90</td>\n",
       "      <td>D</td>\n",
       "    </tr>\n",
       "    <tr>\n",
       "      <th>2</th>\n",
       "      <td>27.89231</td>\n",
       "      <td>81.54675</td>\n",
       "      <td>326.51</td>\n",
       "      <td>1.33</td>\n",
       "      <td>1.14</td>\n",
       "      <td>2022-05-11</td>\n",
       "      <td>455</td>\n",
       "      <td>T</td>\n",
       "      <td>72</td>\n",
       "      <td>6.1NRT</td>\n",
       "      <td>300.69</td>\n",
       "      <td>10.63</td>\n",
       "      <td>D</td>\n",
       "    </tr>\n",
       "    <tr>\n",
       "      <th>3</th>\n",
       "      <td>26.63741</td>\n",
       "      <td>82.95482</td>\n",
       "      <td>331.01</td>\n",
       "      <td>1.10</td>\n",
       "      <td>1.05</td>\n",
       "      <td>2022-05-11</td>\n",
       "      <td>457</td>\n",
       "      <td>T</td>\n",
       "      <td>72</td>\n",
       "      <td>6.1NRT</td>\n",
       "      <td>305.98</td>\n",
       "      <td>11.30</td>\n",
       "      <td>D</td>\n",
       "    </tr>\n",
       "    <tr>\n",
       "      <th>4</th>\n",
       "      <td>26.64724</td>\n",
       "      <td>80.03714</td>\n",
       "      <td>325.69</td>\n",
       "      <td>1.58</td>\n",
       "      <td>1.24</td>\n",
       "      <td>2022-05-11</td>\n",
       "      <td>457</td>\n",
       "      <td>T</td>\n",
       "      <td>58</td>\n",
       "      <td>6.1NRT</td>\n",
       "      <td>302.43</td>\n",
       "      <td>14.25</td>\n",
       "      <td>D</td>\n",
       "    </tr>\n",
       "  </tbody>\n",
       "</table>\n",
       "</div>"
      ],
      "text/plain": [
       "   latitude  longitude  brightness  scan  track    acq_date  acq_time  \\\n",
       "0   7.37478   81.37296      318.39  1.01   1.01  2022-05-11       501   \n",
       "1  28.47017   80.96015      324.15  1.46   1.19  2022-05-11       455   \n",
       "2  27.89231   81.54675      326.51  1.33   1.14  2022-05-11       455   \n",
       "3  26.63741   82.95482      331.01  1.10   1.05  2022-05-11       457   \n",
       "4  26.64724   80.03714      325.69  1.58   1.24  2022-05-11       457   \n",
       "\n",
       "  satellite  confidence version  bright_t31    frp daynight  \n",
       "0         T          70  6.1NRT      292.44  11.15        D  \n",
       "1         T          19  6.1NRT      299.90  12.90        D  \n",
       "2         T          72  6.1NRT      300.69  10.63        D  \n",
       "3         T          72  6.1NRT      305.98  11.30        D  \n",
       "4         T          58  6.1NRT      302.43  14.25        D  "
      ]
     },
     "execution_count": 4,
     "metadata": {},
     "output_type": "execute_result"
    }
   ],
   "source": [
    "wildlife.head()"
   ]
  },
  {
   "cell_type": "code",
   "execution_count": 5,
   "id": "c5eee69f",
   "metadata": {},
   "outputs": [
    {
     "data": {
      "text/plain": [
       "latitude      0\n",
       "longitude     0\n",
       "brightness    0\n",
       "scan          0\n",
       "track         0\n",
       "acq_date      0\n",
       "acq_time      0\n",
       "satellite     0\n",
       "confidence    0\n",
       "version       0\n",
       "bright_t31    0\n",
       "frp           0\n",
       "daynight      0\n",
       "dtype: int64"
      ]
     },
     "execution_count": 5,
     "metadata": {},
     "output_type": "execute_result"
    }
   ],
   "source": [
    "wildlife.isnull().sum()"
   ]
  },
  {
   "cell_type": "code",
   "execution_count": 6,
   "id": "7937056d",
   "metadata": {},
   "outputs": [
    {
     "data": {
      "text/plain": [
       "(1887, 13)"
      ]
     },
     "execution_count": 6,
     "metadata": {},
     "output_type": "execute_result"
    }
   ],
   "source": [
    "wildlife.shape"
   ]
  },
  {
   "cell_type": "code",
   "execution_count": 7,
   "id": "cc9e9079",
   "metadata": {},
   "outputs": [
    {
     "data": {
      "text/html": [
       "<div>\n",
       "<style scoped>\n",
       "    .dataframe tbody tr th:only-of-type {\n",
       "        vertical-align: middle;\n",
       "    }\n",
       "\n",
       "    .dataframe tbody tr th {\n",
       "        vertical-align: top;\n",
       "    }\n",
       "\n",
       "    .dataframe thead th {\n",
       "        text-align: right;\n",
       "    }\n",
       "</style>\n",
       "<table border=\"1\" class=\"dataframe\">\n",
       "  <thead>\n",
       "    <tr style=\"text-align: right;\">\n",
       "      <th></th>\n",
       "      <th>latitude</th>\n",
       "      <th>longitude</th>\n",
       "      <th>brightness</th>\n",
       "      <th>scan</th>\n",
       "      <th>track</th>\n",
       "      <th>acq_time</th>\n",
       "      <th>confidence</th>\n",
       "      <th>bright_t31</th>\n",
       "      <th>frp</th>\n",
       "    </tr>\n",
       "  </thead>\n",
       "  <tbody>\n",
       "    <tr>\n",
       "      <th>latitude</th>\n",
       "      <td>1.000000</td>\n",
       "      <td>-0.509256</td>\n",
       "      <td>0.116069</td>\n",
       "      <td>0.065346</td>\n",
       "      <td>0.079685</td>\n",
       "      <td>0.005377</td>\n",
       "      <td>0.090678</td>\n",
       "      <td>0.299477</td>\n",
       "      <td>0.019595</td>\n",
       "    </tr>\n",
       "    <tr>\n",
       "      <th>longitude</th>\n",
       "      <td>-0.509256</td>\n",
       "      <td>1.000000</td>\n",
       "      <td>-0.113887</td>\n",
       "      <td>0.022991</td>\n",
       "      <td>0.007975</td>\n",
       "      <td>-0.178640</td>\n",
       "      <td>-0.139169</td>\n",
       "      <td>-0.281715</td>\n",
       "      <td>-0.005705</td>\n",
       "    </tr>\n",
       "    <tr>\n",
       "      <th>brightness</th>\n",
       "      <td>0.116069</td>\n",
       "      <td>-0.113887</td>\n",
       "      <td>1.000000</td>\n",
       "      <td>-0.081876</td>\n",
       "      <td>-0.077994</td>\n",
       "      <td>-0.652030</td>\n",
       "      <td>0.384174</td>\n",
       "      <td>0.773638</td>\n",
       "      <td>0.440651</td>\n",
       "    </tr>\n",
       "    <tr>\n",
       "      <th>scan</th>\n",
       "      <td>0.065346</td>\n",
       "      <td>0.022991</td>\n",
       "      <td>-0.081876</td>\n",
       "      <td>1.000000</td>\n",
       "      <td>0.991370</td>\n",
       "      <td>-0.004605</td>\n",
       "      <td>-0.056816</td>\n",
       "      <td>-0.142012</td>\n",
       "      <td>0.441386</td>\n",
       "    </tr>\n",
       "    <tr>\n",
       "      <th>track</th>\n",
       "      <td>0.079685</td>\n",
       "      <td>0.007975</td>\n",
       "      <td>-0.077994</td>\n",
       "      <td>0.991370</td>\n",
       "      <td>1.000000</td>\n",
       "      <td>0.002640</td>\n",
       "      <td>-0.051353</td>\n",
       "      <td>-0.130261</td>\n",
       "      <td>0.438875</td>\n",
       "    </tr>\n",
       "    <tr>\n",
       "      <th>acq_time</th>\n",
       "      <td>0.005377</td>\n",
       "      <td>-0.178640</td>\n",
       "      <td>-0.652030</td>\n",
       "      <td>-0.004605</td>\n",
       "      <td>0.002640</td>\n",
       "      <td>1.000000</td>\n",
       "      <td>0.122254</td>\n",
       "      <td>-0.608192</td>\n",
       "      <td>-0.099741</td>\n",
       "    </tr>\n",
       "    <tr>\n",
       "      <th>confidence</th>\n",
       "      <td>0.090678</td>\n",
       "      <td>-0.139169</td>\n",
       "      <td>0.384174</td>\n",
       "      <td>-0.056816</td>\n",
       "      <td>-0.051353</td>\n",
       "      <td>0.122254</td>\n",
       "      <td>1.000000</td>\n",
       "      <td>0.171835</td>\n",
       "      <td>0.315004</td>\n",
       "    </tr>\n",
       "    <tr>\n",
       "      <th>bright_t31</th>\n",
       "      <td>0.299477</td>\n",
       "      <td>-0.281715</td>\n",
       "      <td>0.773638</td>\n",
       "      <td>-0.142012</td>\n",
       "      <td>-0.130261</td>\n",
       "      <td>-0.608192</td>\n",
       "      <td>0.171835</td>\n",
       "      <td>1.000000</td>\n",
       "      <td>0.022563</td>\n",
       "    </tr>\n",
       "    <tr>\n",
       "      <th>frp</th>\n",
       "      <td>0.019595</td>\n",
       "      <td>-0.005705</td>\n",
       "      <td>0.440651</td>\n",
       "      <td>0.441386</td>\n",
       "      <td>0.438875</td>\n",
       "      <td>-0.099741</td>\n",
       "      <td>0.315004</td>\n",
       "      <td>0.022563</td>\n",
       "      <td>1.000000</td>\n",
       "    </tr>\n",
       "  </tbody>\n",
       "</table>\n",
       "</div>"
      ],
      "text/plain": [
       "            latitude  longitude  brightness      scan     track  acq_time  \\\n",
       "latitude    1.000000  -0.509256    0.116069  0.065346  0.079685  0.005377   \n",
       "longitude  -0.509256   1.000000   -0.113887  0.022991  0.007975 -0.178640   \n",
       "brightness  0.116069  -0.113887    1.000000 -0.081876 -0.077994 -0.652030   \n",
       "scan        0.065346   0.022991   -0.081876  1.000000  0.991370 -0.004605   \n",
       "track       0.079685   0.007975   -0.077994  0.991370  1.000000  0.002640   \n",
       "acq_time    0.005377  -0.178640   -0.652030 -0.004605  0.002640  1.000000   \n",
       "confidence  0.090678  -0.139169    0.384174 -0.056816 -0.051353  0.122254   \n",
       "bright_t31  0.299477  -0.281715    0.773638 -0.142012 -0.130261 -0.608192   \n",
       "frp         0.019595  -0.005705    0.440651  0.441386  0.438875 -0.099741   \n",
       "\n",
       "            confidence  bright_t31       frp  \n",
       "latitude      0.090678    0.299477  0.019595  \n",
       "longitude    -0.139169   -0.281715 -0.005705  \n",
       "brightness    0.384174    0.773638  0.440651  \n",
       "scan         -0.056816   -0.142012  0.441386  \n",
       "track        -0.051353   -0.130261  0.438875  \n",
       "acq_time      0.122254   -0.608192 -0.099741  \n",
       "confidence    1.000000    0.171835  0.315004  \n",
       "bright_t31    0.171835    1.000000  0.022563  \n",
       "frp           0.315004    0.022563  1.000000  "
      ]
     },
     "execution_count": 7,
     "metadata": {},
     "output_type": "execute_result"
    }
   ],
   "source": [
    "wildlife.corr()"
   ]
  },
  {
   "cell_type": "markdown",
   "id": "13047240",
   "metadata": {},
   "source": [
    "# Creating An Heat Map "
   ]
  },
  {
   "cell_type": "code",
   "execution_count": 8,
   "id": "6e8fd84b",
   "metadata": {},
   "outputs": [
    {
     "data": {
      "text/plain": [
       "<AxesSubplot:>"
      ]
     },
     "execution_count": 8,
     "metadata": {},
     "output_type": "execute_result"
    },
    {
     "data": {
      "image/png": "[encoded data removed]",
      "text/plain": [
       "<Figure size 720x720 with 2 Axes>"
      ]
     },
     "metadata": {
      "needs_background": "light"
     },
     "output_type": "display_data"
    }
   ],
   "source": [
    "plt.figure(figsize=(10, 10))\n",
    "sns.heatmap(wildlife.corr(),annot=True,cmap='viridis',linewidths=.5)"
   ]
  },
  {
   "cell_type": "code",
   "execution_count": 9,
   "id": "733f4735",
   "metadata": {},
   "outputs": [
    {
     "data": {
      "text/plain": [
       "6.1NRT    1887\n",
       "Name: version, dtype: int64"
      ]
     },
     "execution_count": 9,
     "metadata": {},
     "output_type": "execute_result"
    }
   ],
   "source": [
    "wildlife['version'].value_counts()"
   ]
  },
  {
   "cell_type": "code",
   "execution_count": 10,
   "id": "2039a6cb",
   "metadata": {},
   "outputs": [],
   "source": [
    "#As version is same for all we can drop this column\n",
    "wildlife = wildlife.drop(['version'], axis = 1)"
   ]
  },
  {
   "cell_type": "code",
   "execution_count": 11,
   "id": "43d5d378",
   "metadata": {},
   "outputs": [],
   "source": [
    "#From heatMap we can conclude 'track' column has an high value so we can drop this column\n",
    "wildlife = wildlife.drop(['track'], axis = 1)"
   ]
  },
  {
   "cell_type": "markdown",
   "id": "0ffbc424",
   "metadata": {},
   "source": [
    "# Scaling down the Numeric Columns"
   ]
  },
  {
   "cell_type": "code",
   "execution_count": 12,
   "id": "ac7a2ed1",
   "metadata": {},
   "outputs": [
    {
     "data": {
      "text/plain": [
       "latitude      float64\n",
       "longitude     float64\n",
       "brightness    float64\n",
       "scan          float64\n",
       "acq_date       object\n",
       "acq_time        int64\n",
       "satellite      object\n",
       "confidence      int64\n",
       "bright_t31    float64\n",
       "frp           float64\n",
       "daynight       object\n",
       "dtype: object"
      ]
     },
     "execution_count": 12,
     "metadata": {},
     "output_type": "execute_result"
    }
   ],
   "source": [
    "wildlife.dtypes"
   ]
  },
  {
   "cell_type": "code",
   "execution_count": 13,
   "id": "fd83558a",
   "metadata": {},
   "outputs": [
    {
     "data": {
      "text/html": [
       "<div>\n",
       "<style scoped>\n",
       "    .dataframe tbody tr th:only-of-type {\n",
       "        vertical-align: middle;\n",
       "    }\n",
       "\n",
       "    .dataframe tbody tr th {\n",
       "        vertical-align: top;\n",
       "    }\n",
       "\n",
       "    .dataframe thead th {\n",
       "        text-align: right;\n",
       "    }\n",
       "</style>\n",
       "<table border=\"1\" class=\"dataframe\">\n",
       "  <thead>\n",
       "    <tr style=\"text-align: right;\">\n",
       "      <th></th>\n",
       "      <th>latitude</th>\n",
       "      <th>longitude</th>\n",
       "      <th>brightness</th>\n",
       "      <th>scan</th>\n",
       "      <th>acq_time</th>\n",
       "      <th>confidence</th>\n",
       "      <th>bright_t31</th>\n",
       "      <th>frp</th>\n",
       "    </tr>\n",
       "  </thead>\n",
       "  <tbody>\n",
       "    <tr>\n",
       "      <th>count</th>\n",
       "      <td>1887.000000</td>\n",
       "      <td>1887.000000</td>\n",
       "      <td>1887.000000</td>\n",
       "      <td>1887.000000</td>\n",
       "      <td>1887.000000</td>\n",
       "      <td>1887.000000</td>\n",
       "      <td>1887.000000</td>\n",
       "      <td>1887.000000</td>\n",
       "    </tr>\n",
       "    <tr>\n",
       "      <th>mean</th>\n",
       "      <td>27.431809</td>\n",
       "      <td>77.154410</td>\n",
       "      <td>328.448686</td>\n",
       "      <td>1.395140</td>\n",
       "      <td>917.121887</td>\n",
       "      <td>68.115527</td>\n",
       "      <td>307.411712</td>\n",
       "      <td>22.826010</td>\n",
       "    </tr>\n",
       "    <tr>\n",
       "      <th>std</th>\n",
       "      <td>5.973244</td>\n",
       "      <td>6.519533</td>\n",
       "      <td>12.280089</td>\n",
       "      <td>0.535207</td>\n",
       "      <td>477.929014</td>\n",
       "      <td>17.241913</td>\n",
       "      <td>10.210443</td>\n",
       "      <td>31.031252</td>\n",
       "    </tr>\n",
       "    <tr>\n",
       "      <th>min</th>\n",
       "      <td>5.581600</td>\n",
       "      <td>54.315140</td>\n",
       "      <td>300.480000</td>\n",
       "      <td>1.000000</td>\n",
       "      <td>349.000000</td>\n",
       "      <td>0.000000</td>\n",
       "      <td>272.030000</td>\n",
       "      <td>3.200000</td>\n",
       "    </tr>\n",
       "    <tr>\n",
       "      <th>25%</th>\n",
       "      <td>22.365765</td>\n",
       "      <td>73.935380</td>\n",
       "      <td>320.225000</td>\n",
       "      <td>1.030000</td>\n",
       "      <td>540.000000</td>\n",
       "      <td>60.000000</td>\n",
       "      <td>298.500000</td>\n",
       "      <td>10.175000</td>\n",
       "    </tr>\n",
       "    <tr>\n",
       "      <th>50%</th>\n",
       "      <td>30.474080</td>\n",
       "      <td>75.840480</td>\n",
       "      <td>331.350000</td>\n",
       "      <td>1.160000</td>\n",
       "      <td>758.000000</td>\n",
       "      <td>71.000000</td>\n",
       "      <td>309.540000</td>\n",
       "      <td>15.100000</td>\n",
       "    </tr>\n",
       "    <tr>\n",
       "      <th>75%</th>\n",
       "      <td>32.198300</td>\n",
       "      <td>79.070680</td>\n",
       "      <td>336.310000</td>\n",
       "      <td>1.560000</td>\n",
       "      <td>841.000000</td>\n",
       "      <td>79.000000</td>\n",
       "      <td>315.615000</td>\n",
       "      <td>25.905000</td>\n",
       "    </tr>\n",
       "    <tr>\n",
       "      <th>max</th>\n",
       "      <td>39.849320</td>\n",
       "      <td>101.964660</td>\n",
       "      <td>382.620000</td>\n",
       "      <td>4.470000</td>\n",
       "      <td>2229.000000</td>\n",
       "      <td>100.000000</td>\n",
       "      <td>329.620000</td>\n",
       "      <td>727.930000</td>\n",
       "    </tr>\n",
       "  </tbody>\n",
       "</table>\n",
       "</div>"
      ],
      "text/plain": [
       "          latitude    longitude   brightness         scan     acq_time  \\\n",
       "count  1887.000000  1887.000000  1887.000000  1887.000000  1887.000000   \n",
       "mean     27.431809    77.154410   328.448686     1.395140   917.121887   \n",
       "std       5.973244     6.519533    12.280089     0.535207   477.929014   \n",
       "min       5.581600    54.315140   300.480000     1.000000   349.000000   \n",
       "25%      22.365765    73.935380   320.225000     1.030000   540.000000   \n",
       "50%      30.474080    75.840480   331.350000     1.160000   758.000000   \n",
       "75%      32.198300    79.070680   336.310000     1.560000   841.000000   \n",
       "max      39.849320   101.964660   382.620000     4.470000  2229.000000   \n",
       "\n",
       "        confidence   bright_t31          frp  \n",
       "count  1887.000000  1887.000000  1887.000000  \n",
       "mean     68.115527   307.411712    22.826010  \n",
       "std      17.241913    10.210443    31.031252  \n",
       "min       0.000000   272.030000     3.200000  \n",
       "25%      60.000000   298.500000    10.175000  \n",
       "50%      71.000000   309.540000    15.100000  \n",
       "75%      79.000000   315.615000    25.905000  \n",
       "max     100.000000   329.620000   727.930000  "
      ]
     },
     "execution_count": 13,
     "metadata": {},
     "output_type": "execute_result"
    }
   ],
   "source": [
    "wildlife.describe()"
   ]
  },
  {
   "cell_type": "markdown",
   "id": "665b9736",
   "metadata": {},
   "source": [
    "As observed, the min_value amongst these Numeric Columns is 0, while the max_value if 2229, indicating a huge disparity amongst the Numeric features of this dataset.\n",
    "To normalize that, we'll Scale down the Numeric fetaures"
   ]
  },
  {
   "cell_type": "code",
   "execution_count": 14,
   "id": "10e0f5ab",
   "metadata": {},
   "outputs": [],
   "source": [
    "numeric_cols = ['latitude', 'longitude', 'brightness', 'scan', 'bright_t31', 'frp']"
   ]
  },
  {
   "cell_type": "code",
   "execution_count": 15,
   "id": "f44c831a",
   "metadata": {},
   "outputs": [],
   "source": [
    "from sklearn.preprocessing import MinMaxScaler\n",
    "scaler = MinMaxScaler()"
   ]
  },
  {
   "cell_type": "code",
   "execution_count": 16,
   "id": "c9e74502",
   "metadata": {},
   "outputs": [],
   "source": [
    "wildlife[numeric_cols] = scaler.fit_transform(wildlife[numeric_cols])"
   ]
  },
  {
   "cell_type": "code",
   "execution_count": 17,
   "id": "c7ea644a",
   "metadata": {},
   "outputs": [
    {
     "data": {
      "text/html": [
       "<div>\n",
       "<style scoped>\n",
       "    .dataframe tbody tr th:only-of-type {\n",
       "        vertical-align: middle;\n",
       "    }\n",
       "\n",
       "    .dataframe tbody tr th {\n",
       "        vertical-align: top;\n",
       "    }\n",
       "\n",
       "    .dataframe thead th {\n",
       "        text-align: right;\n",
       "    }\n",
       "</style>\n",
       "<table border=\"1\" class=\"dataframe\">\n",
       "  <thead>\n",
       "    <tr style=\"text-align: right;\">\n",
       "      <th></th>\n",
       "      <th>latitude</th>\n",
       "      <th>longitude</th>\n",
       "      <th>brightness</th>\n",
       "      <th>scan</th>\n",
       "      <th>acq_time</th>\n",
       "      <th>confidence</th>\n",
       "      <th>bright_t31</th>\n",
       "      <th>frp</th>\n",
       "    </tr>\n",
       "  </thead>\n",
       "  <tbody>\n",
       "    <tr>\n",
       "      <th>count</th>\n",
       "      <td>1887.000000</td>\n",
       "      <td>1887.000000</td>\n",
       "      <td>1887.000000</td>\n",
       "      <td>1887.000000</td>\n",
       "      <td>1887.000000</td>\n",
       "      <td>1887.000000</td>\n",
       "      <td>1887.000000</td>\n",
       "      <td>1887.000000</td>\n",
       "    </tr>\n",
       "    <tr>\n",
       "      <th>mean</th>\n",
       "      <td>0.637632</td>\n",
       "      <td>0.479318</td>\n",
       "      <td>0.340500</td>\n",
       "      <td>0.113873</td>\n",
       "      <td>917.121887</td>\n",
       "      <td>68.115527</td>\n",
       "      <td>0.614372</td>\n",
       "      <td>0.027080</td>\n",
       "    </tr>\n",
       "    <tr>\n",
       "      <th>std</th>\n",
       "      <td>0.174311</td>\n",
       "      <td>0.136823</td>\n",
       "      <td>0.149502</td>\n",
       "      <td>0.154238</td>\n",
       "      <td>477.929014</td>\n",
       "      <td>17.241913</td>\n",
       "      <td>0.177295</td>\n",
       "      <td>0.042818</td>\n",
       "    </tr>\n",
       "    <tr>\n",
       "      <th>min</th>\n",
       "      <td>0.000000</td>\n",
       "      <td>0.000000</td>\n",
       "      <td>0.000000</td>\n",
       "      <td>0.000000</td>\n",
       "      <td>349.000000</td>\n",
       "      <td>0.000000</td>\n",
       "      <td>0.000000</td>\n",
       "      <td>0.000000</td>\n",
       "    </tr>\n",
       "    <tr>\n",
       "      <th>25%</th>\n",
       "      <td>0.489795</td>\n",
       "      <td>0.411762</td>\n",
       "      <td>0.240382</td>\n",
       "      <td>0.008646</td>\n",
       "      <td>540.000000</td>\n",
       "      <td>60.000000</td>\n",
       "      <td>0.459628</td>\n",
       "      <td>0.009624</td>\n",
       "    </tr>\n",
       "    <tr>\n",
       "      <th>50%</th>\n",
       "      <td>0.726412</td>\n",
       "      <td>0.451743</td>\n",
       "      <td>0.375822</td>\n",
       "      <td>0.046110</td>\n",
       "      <td>758.000000</td>\n",
       "      <td>71.000000</td>\n",
       "      <td>0.651328</td>\n",
       "      <td>0.016420</td>\n",
       "    </tr>\n",
       "    <tr>\n",
       "      <th>75%</th>\n",
       "      <td>0.776728</td>\n",
       "      <td>0.519534</td>\n",
       "      <td>0.436206</td>\n",
       "      <td>0.161383</td>\n",
       "      <td>841.000000</td>\n",
       "      <td>79.000000</td>\n",
       "      <td>0.756815</td>\n",
       "      <td>0.031329</td>\n",
       "    </tr>\n",
       "    <tr>\n",
       "      <th>max</th>\n",
       "      <td>1.000000</td>\n",
       "      <td>1.000000</td>\n",
       "      <td>1.000000</td>\n",
       "      <td>1.000000</td>\n",
       "      <td>2229.000000</td>\n",
       "      <td>100.000000</td>\n",
       "      <td>1.000000</td>\n",
       "      <td>1.000000</td>\n",
       "    </tr>\n",
       "  </tbody>\n",
       "</table>\n",
       "</div>"
      ],
      "text/plain": [
       "          latitude    longitude   brightness         scan     acq_time  \\\n",
       "count  1887.000000  1887.000000  1887.000000  1887.000000  1887.000000   \n",
       "mean      0.637632     0.479318     0.340500     0.113873   917.121887   \n",
       "std       0.174311     0.136823     0.149502     0.154238   477.929014   \n",
       "min       0.000000     0.000000     0.000000     0.000000   349.000000   \n",
       "25%       0.489795     0.411762     0.240382     0.008646   540.000000   \n",
       "50%       0.726412     0.451743     0.375822     0.046110   758.000000   \n",
       "75%       0.776728     0.519534     0.436206     0.161383   841.000000   \n",
       "max       1.000000     1.000000     1.000000     1.000000  2229.000000   \n",
       "\n",
       "        confidence   bright_t31          frp  \n",
       "count  1887.000000  1887.000000  1887.000000  \n",
       "mean     68.115527     0.614372     0.027080  \n",
       "std      17.241913     0.177295     0.042818  \n",
       "min       0.000000     0.000000     0.000000  \n",
       "25%      60.000000     0.459628     0.009624  \n",
       "50%      71.000000     0.651328     0.016420  \n",
       "75%      79.000000     0.756815     0.031329  \n",
       "max     100.000000     1.000000     1.000000  "
      ]
     },
     "execution_count": 17,
     "metadata": {},
     "output_type": "execute_result"
    }
   ],
   "source": [
    "wildlife.describe()"
   ]
  },
  {
   "cell_type": "markdown",
   "id": "5685aec5",
   "metadata": {},
   "source": [
    "We'll be dealing with the 'acq_time' column in a different way"
   ]
  },
  {
   "cell_type": "markdown",
   "id": "983ef507",
   "metadata": {},
   "source": [
    "# Encoding Some of the Categorical Columns"
   ]
  },
  {
   "cell_type": "code",
   "execution_count": 18,
   "id": "ab88e69b",
   "metadata": {},
   "outputs": [
    {
     "name": "stdout",
     "output_type": "stream",
     "text": [
      "A    972\n",
      "T    915\n",
      "Name: satellite, dtype: int64\n"
     ]
    }
   ],
   "source": [
    "print(wildlife['satellite'].value_counts())"
   ]
  },
  {
   "cell_type": "code",
   "execution_count": 19,
   "id": "e6364dbb",
   "metadata": {},
   "outputs": [],
   "source": [
    "wildlife['satellite']=wildlife['satellite'].map({\"A\":1 ,\"T\":0})"
   ]
  },
  {
   "cell_type": "code",
   "execution_count": 20,
   "id": "96e61066",
   "metadata": {},
   "outputs": [
    {
     "name": "stdout",
     "output_type": "stream",
     "text": [
      "D    1484\n",
      "N     403\n",
      "Name: daynight, dtype: int64\n"
     ]
    }
   ],
   "source": [
    "print(wildlife['daynight'].value_counts())"
   ]
  },
  {
   "cell_type": "code",
   "execution_count": 21,
   "id": "f4632c51",
   "metadata": {},
   "outputs": [],
   "source": [
    "wildlife['daynight'] = wildlife['daynight'].map({'D':1, 'N':0})"
   ]
  },
  {
   "cell_type": "code",
   "execution_count": 22,
   "id": "50504816",
   "metadata": {},
   "outputs": [
    {
     "data": {
      "text/plain": [
       "0      2022-05-11\n",
       "1      2022-05-11\n",
       "2      2022-05-11\n",
       "3      2022-05-11\n",
       "4      2022-05-11\n",
       "          ...    \n",
       "1882   2022-05-18\n",
       "1883   2022-05-18\n",
       "1884   2022-05-18\n",
       "1885   2022-05-18\n",
       "1886   2022-05-18\n",
       "Name: acq_date, Length: 1887, dtype: datetime64[ns]"
      ]
     },
     "execution_count": 22,
     "metadata": {},
     "output_type": "execute_result"
    }
   ],
   "source": [
    "wildlife['acq_date'] = pd.to_datetime(wildlife['acq_date'])\n",
    "wildlife['acq_date']"
   ]
  },
  {
   "cell_type": "code",
   "execution_count": 23,
   "id": "2f08eda6",
   "metadata": {},
   "outputs": [
    {
     "data": {
      "text/plain": [
       "<bound method NDFrame.head of       latitude  longitude  brightness      scan   acq_date  acq_time  \\\n",
       "0     0.052329   0.567851    0.218042  0.002882 2022-05-11       501   \n",
       "1     0.667934   0.559187    0.288167  0.132565 2022-05-11       455   \n",
       "2     0.651071   0.571498    0.316898  0.095101 2022-05-11       455   \n",
       "3     0.614450   0.601049    0.371682  0.028818 2022-05-11       457   \n",
       "4     0.614737   0.539817    0.306915  0.167147 2022-05-11       457   \n",
       "...        ...        ...         ...       ...        ...       ...   \n",
       "1882  0.804123   0.433612    0.370343  0.000000 2022-05-18       818   \n",
       "1883  0.804079   0.433388    0.284636  0.000000 2022-05-18       818   \n",
       "1884  0.805308   0.418245    0.293280  0.000000 2022-05-18       818   \n",
       "1885  0.815319   0.413071    0.251157  0.002882 2022-05-18       818   \n",
       "1886  0.530973   0.673092    0.099099  0.195965 2022-05-18      1558   \n",
       "\n",
       "      satellite  confidence  bright_t31       frp  daynight  year  month  day  \n",
       "0             0          70    0.354402  0.010970         1  2022      5   11  \n",
       "1             0          19    0.483938  0.013384         1  2022      5   11  \n",
       "2             0          72    0.497656  0.010252         1  2022      5   11  \n",
       "3             0          72    0.589512  0.011177         1  2022      5   11  \n",
       "4             0          58    0.527869  0.015247         1  2022      5   11  \n",
       "...         ...         ...         ...       ...       ...   ...    ...  ...  \n",
       "1882          1          75    0.641778  0.017676         1  2022      5   18  \n",
       "1883          1          52    0.648376  0.006471         1  2022      5   18  \n",
       "1884          1          48    0.616947  0.006623         1  2022      5   18  \n",
       "1885          1          60    0.625629  0.003532         1  2022      5   18  \n",
       "1886          0          37    0.328008  0.009507         0  2022      5   18  \n",
       "\n",
       "[1887 rows x 14 columns]>"
      ]
     },
     "execution_count": 23,
     "metadata": {},
     "output_type": "execute_result"
    }
   ],
   "source": [
    "wildlife['year'] = wildlife['acq_date'].dt.year\n",
    "wildlife['month'] = wildlife['acq_date'].dt.month\n",
    "wildlife['day'] = wildlife['acq_date'].dt.day\n",
    "wildlife.head"
   ]
  },
  {
   "cell_type": "code",
   "execution_count": 24,
   "id": "0ce9f630",
   "metadata": {},
   "outputs": [],
   "source": [
    "bins = [0, 1, 2, 3, 4, 5]\n",
    "labels = [1,2,3,4,5]\n",
    "wildlife['scan_binned'] = pd.cut(wildlife['scan'], bins=bins, labels=labels)\n",
    "wildlife = wildlife.drop(['scan'], axis = 1)\n"
   ]
  },
  {
   "cell_type": "code",
   "execution_count": 25,
   "id": "eea5c15b",
   "metadata": {},
   "outputs": [
    {
     "data": {
      "text/plain": [
       "0         1\n",
       "1         1\n",
       "2         1\n",
       "3         1\n",
       "4         1\n",
       "       ... \n",
       "1882    NaN\n",
       "1883    NaN\n",
       "1884    NaN\n",
       "1885      1\n",
       "1886      1\n",
       "Name: scan_binned, Length: 1887, dtype: category\n",
       "Categories (5, int64): [1 < 2 < 3 < 4 < 5]"
      ]
     },
     "execution_count": 25,
     "metadata": {},
     "output_type": "execute_result"
    }
   ],
   "source": [
    "wildlife['scan_binned']\n"
   ]
  },
  {
   "cell_type": "markdown",
   "id": "b9882083",
   "metadata": {},
   "source": [
    "# Tracing the Train and Test Parameters"
   ]
  },
  {
   "cell_type": "code",
   "execution_count": 26,
   "id": "875256c0",
   "metadata": {},
   "outputs": [],
   "source": [
    "y = wildlife['confidence']\n",
    "X = wildlife.drop(['confidence', 'acq_date', 'acq_time', 'bright_t31'], axis = 1)"
   ]
  },
  {
   "cell_type": "code",
   "execution_count": 27,
   "id": "77b5b9bc",
   "metadata": {},
   "outputs": [
    {
     "data": {
      "text/plain": [
       "<bound method NDFrame.head of       latitude  longitude  brightness  satellite       frp  daynight  year  \\\n",
       "0     0.052329   0.567851    0.218042          0  0.010970         1  2022   \n",
       "1     0.667934   0.559187    0.288167          0  0.013384         1  2022   \n",
       "2     0.651071   0.571498    0.316898          0  0.010252         1  2022   \n",
       "3     0.614450   0.601049    0.371682          0  0.011177         1  2022   \n",
       "4     0.614737   0.539817    0.306915          0  0.015247         1  2022   \n",
       "...        ...        ...         ...        ...       ...       ...   ...   \n",
       "1882  0.804123   0.433612    0.370343          1  0.017676         1  2022   \n",
       "1883  0.804079   0.433388    0.284636          1  0.006471         1  2022   \n",
       "1884  0.805308   0.418245    0.293280          1  0.006623         1  2022   \n",
       "1885  0.815319   0.413071    0.251157          1  0.003532         1  2022   \n",
       "1886  0.530973   0.673092    0.099099          0  0.009507         0  2022   \n",
       "\n",
       "      month  day scan_binned  \n",
       "0         5   11           1  \n",
       "1         5   11           1  \n",
       "2         5   11           1  \n",
       "3         5   11           1  \n",
       "4         5   11           1  \n",
       "...     ...  ...         ...  \n",
       "1882      5   18         NaN  \n",
       "1883      5   18         NaN  \n",
       "1884      5   18         NaN  \n",
       "1885      5   18           1  \n",
       "1886      5   18           1  \n",
       "\n",
       "[1887 rows x 10 columns]>"
      ]
     },
     "execution_count": 27,
     "metadata": {},
     "output_type": "execute_result"
    }
   ],
   "source": [
    "X.head\n"
   ]
  },
  {
   "cell_type": "code",
   "execution_count": 28,
   "id": "0363e04b",
   "metadata": {},
   "outputs": [
    {
     "data": {
      "text/plain": [
       "(1887, 10)"
      ]
     },
     "execution_count": 28,
     "metadata": {},
     "output_type": "execute_result"
    }
   ],
   "source": [
    "X.shape"
   ]
  },
  {
   "cell_type": "markdown",
   "id": "ad523e53",
   "metadata": {},
   "source": [
    "# Splitting the dataset into train and test "
   ]
  },
  {
   "cell_type": "code",
   "execution_count": 29,
   "id": "cff63a72",
   "metadata": {},
   "outputs": [],
   "source": [
    "from sklearn.model_selection import train_test_split\n",
    "X_train, X_test, y_train, y_test = train_test_split(X, y, test_size = 0.2, random_state = 0)"
   ]
  },
  {
   "cell_type": "code",
   "execution_count": 30,
   "id": "5f65f9e5",
   "metadata": {},
   "outputs": [
    {
     "data": {
      "text/html": [
       "<div>\n",
       "<style scoped>\n",
       "    .dataframe tbody tr th:only-of-type {\n",
       "        vertical-align: middle;\n",
       "    }\n",
       "\n",
       "    .dataframe tbody tr th {\n",
       "        vertical-align: top;\n",
       "    }\n",
       "\n",
       "    .dataframe thead th {\n",
       "        text-align: right;\n",
       "    }\n",
       "</style>\n",
       "<table border=\"1\" class=\"dataframe\">\n",
       "  <thead>\n",
       "    <tr style=\"text-align: right;\">\n",
       "      <th></th>\n",
       "      <th>latitude</th>\n",
       "      <th>longitude</th>\n",
       "      <th>brightness</th>\n",
       "      <th>satellite</th>\n",
       "      <th>frp</th>\n",
       "      <th>daynight</th>\n",
       "      <th>year</th>\n",
       "      <th>month</th>\n",
       "      <th>day</th>\n",
       "      <th>scan_binned</th>\n",
       "    </tr>\n",
       "  </thead>\n",
       "  <tbody>\n",
       "    <tr>\n",
       "      <th>1649</th>\n",
       "      <td>0.545962</td>\n",
       "      <td>0.559014</td>\n",
       "      <td>0.407232</td>\n",
       "      <td>1</td>\n",
       "      <td>0.031363</td>\n",
       "      <td>1</td>\n",
       "      <td>2022</td>\n",
       "      <td>5</td>\n",
       "      <td>17</td>\n",
       "      <td>1</td>\n",
       "    </tr>\n",
       "    <tr>\n",
       "      <th>385</th>\n",
       "      <td>0.443757</td>\n",
       "      <td>0.649443</td>\n",
       "      <td>0.319455</td>\n",
       "      <td>0</td>\n",
       "      <td>0.009742</td>\n",
       "      <td>1</td>\n",
       "      <td>2022</td>\n",
       "      <td>5</td>\n",
       "      <td>13</td>\n",
       "      <td>1</td>\n",
       "    </tr>\n",
       "    <tr>\n",
       "      <th>930</th>\n",
       "      <td>0.787546</td>\n",
       "      <td>0.453412</td>\n",
       "      <td>0.123691</td>\n",
       "      <td>1</td>\n",
       "      <td>0.008431</td>\n",
       "      <td>0</td>\n",
       "      <td>2022</td>\n",
       "      <td>5</td>\n",
       "      <td>14</td>\n",
       "      <td>1</td>\n",
       "    </tr>\n",
       "    <tr>\n",
       "      <th>1387</th>\n",
       "      <td>0.307078</td>\n",
       "      <td>0.476920</td>\n",
       "      <td>0.415632</td>\n",
       "      <td>1</td>\n",
       "      <td>0.020573</td>\n",
       "      <td>1</td>\n",
       "      <td>2022</td>\n",
       "      <td>5</td>\n",
       "      <td>16</td>\n",
       "      <td>1</td>\n",
       "    </tr>\n",
       "    <tr>\n",
       "      <th>347</th>\n",
       "      <td>0.504513</td>\n",
       "      <td>0.535686</td>\n",
       "      <td>0.124178</td>\n",
       "      <td>0</td>\n",
       "      <td>0.005906</td>\n",
       "      <td>0</td>\n",
       "      <td>2022</td>\n",
       "      <td>5</td>\n",
       "      <td>12</td>\n",
       "      <td>1</td>\n",
       "    </tr>\n",
       "    <tr>\n",
       "      <th>...</th>\n",
       "      <td>...</td>\n",
       "      <td>...</td>\n",
       "      <td>...</td>\n",
       "      <td>...</td>\n",
       "      <td>...</td>\n",
       "      <td>...</td>\n",
       "      <td>...</td>\n",
       "      <td>...</td>\n",
       "      <td>...</td>\n",
       "      <td>...</td>\n",
       "    </tr>\n",
       "    <tr>\n",
       "      <th>835</th>\n",
       "      <td>0.758727</td>\n",
       "      <td>0.416001</td>\n",
       "      <td>0.418432</td>\n",
       "      <td>1</td>\n",
       "      <td>0.023402</td>\n",
       "      <td>1</td>\n",
       "      <td>2022</td>\n",
       "      <td>5</td>\n",
       "      <td>14</td>\n",
       "      <td>1</td>\n",
       "    </tr>\n",
       "    <tr>\n",
       "      <th>1216</th>\n",
       "      <td>0.811966</td>\n",
       "      <td>0.410104</td>\n",
       "      <td>0.300706</td>\n",
       "      <td>0</td>\n",
       "      <td>0.022257</td>\n",
       "      <td>0</td>\n",
       "      <td>2022</td>\n",
       "      <td>5</td>\n",
       "      <td>15</td>\n",
       "      <td>1</td>\n",
       "    </tr>\n",
       "    <tr>\n",
       "      <th>1653</th>\n",
       "      <td>0.538891</td>\n",
       "      <td>0.514767</td>\n",
       "      <td>0.404431</td>\n",
       "      <td>1</td>\n",
       "      <td>0.050212</td>\n",
       "      <td>1</td>\n",
       "      <td>2022</td>\n",
       "      <td>5</td>\n",
       "      <td>17</td>\n",
       "      <td>1</td>\n",
       "    </tr>\n",
       "    <tr>\n",
       "      <th>559</th>\n",
       "      <td>0.845890</td>\n",
       "      <td>0.392680</td>\n",
       "      <td>0.028610</td>\n",
       "      <td>0</td>\n",
       "      <td>0.004926</td>\n",
       "      <td>0</td>\n",
       "      <td>2022</td>\n",
       "      <td>5</td>\n",
       "      <td>13</td>\n",
       "      <td>1</td>\n",
       "    </tr>\n",
       "    <tr>\n",
       "      <th>684</th>\n",
       "      <td>0.737605</td>\n",
       "      <td>0.421133</td>\n",
       "      <td>0.441807</td>\n",
       "      <td>0</td>\n",
       "      <td>0.029666</td>\n",
       "      <td>1</td>\n",
       "      <td>2022</td>\n",
       "      <td>5</td>\n",
       "      <td>14</td>\n",
       "      <td>1</td>\n",
       "    </tr>\n",
       "  </tbody>\n",
       "</table>\n",
       "<p>1509 rows × 10 columns</p>\n",
       "</div>"
      ],
      "text/plain": [
       "      latitude  longitude  brightness  satellite       frp  daynight  year  \\\n",
       "1649  0.545962   0.559014    0.407232          1  0.031363         1  2022   \n",
       "385   0.443757   0.649443    0.319455          0  0.009742         1  2022   \n",
       "930   0.787546   0.453412    0.123691          1  0.008431         0  2022   \n",
       "1387  0.307078   0.476920    0.415632          1  0.020573         1  2022   \n",
       "347   0.504513   0.535686    0.124178          0  0.005906         0  2022   \n",
       "...        ...        ...         ...        ...       ...       ...   ...   \n",
       "835   0.758727   0.416001    0.418432          1  0.023402         1  2022   \n",
       "1216  0.811966   0.410104    0.300706          0  0.022257         0  2022   \n",
       "1653  0.538891   0.514767    0.404431          1  0.050212         1  2022   \n",
       "559   0.845890   0.392680    0.028610          0  0.004926         0  2022   \n",
       "684   0.737605   0.421133    0.441807          0  0.029666         1  2022   \n",
       "\n",
       "      month  day scan_binned  \n",
       "1649      5   17           1  \n",
       "385       5   13           1  \n",
       "930       5   14           1  \n",
       "1387      5   16           1  \n",
       "347       5   12           1  \n",
       "...     ...  ...         ...  \n",
       "835       5   14           1  \n",
       "1216      5   15           1  \n",
       "1653      5   17           1  \n",
       "559       5   13           1  \n",
       "684       5   14           1  \n",
       "\n",
       "[1509 rows x 10 columns]"
      ]
     },
     "execution_count": 30,
     "metadata": {},
     "output_type": "execute_result"
    }
   ],
   "source": [
    "X_train"
   ]
  },
  {
   "cell_type": "code",
   "execution_count": 31,
   "id": "00fdaad6",
   "metadata": {},
   "outputs": [
    {
     "data": {
      "text/plain": [
       "1649     66\n",
       "385      58\n",
       "930      81\n",
       "1387     74\n",
       "347      74\n",
       "       ... \n",
       "835      47\n",
       "1216    100\n",
       "1653     65\n",
       "559      38\n",
       "684      75\n",
       "Name: confidence, Length: 1509, dtype: int64"
      ]
     },
     "execution_count": 31,
     "metadata": {},
     "output_type": "execute_result"
    }
   ],
   "source": [
    "y_train"
   ]
  },
  {
   "cell_type": "code",
   "execution_count": 47,
   "id": "e9eaacdf",
   "metadata": {},
   "outputs": [
    {
     "data": {
      "text/plain": [
       "latitude         0\n",
       "longitude        0\n",
       "brightness       0\n",
       "satellite        0\n",
       "frp              0\n",
       "daynight         0\n",
       "year             0\n",
       "month            0\n",
       "day              0\n",
       "scan_binned    160\n",
       "dtype: int64"
      ]
     },
     "execution_count": 47,
     "metadata": {},
     "output_type": "execute_result"
    }
   ],
   "source": [
    "X_train.isnull().sum()"
   ]
  },
  {
   "cell_type": "code",
   "execution_count": 48,
   "id": "89bff959",
   "metadata": {},
   "outputs": [],
   "source": [
    "X_train['scan_binned'].fillna(wildlife['scan_binned'].mode()[0], inplace=True)"
   ]
  },
  {
   "cell_type": "code",
   "execution_count": 49,
   "id": "3de2f5ac",
   "metadata": {},
   "outputs": [
    {
     "data": {
      "text/plain": [
       "latitude       0\n",
       "longitude      0\n",
       "brightness     0\n",
       "satellite      0\n",
       "frp            0\n",
       "daynight       0\n",
       "year           0\n",
       "month          0\n",
       "day            0\n",
       "scan_binned    0\n",
       "dtype: int64"
      ]
     },
     "execution_count": 49,
     "metadata": {},
     "output_type": "execute_result"
    }
   ],
   "source": [
    "X_train.isnull().sum()"
   ]
  },
  {
   "cell_type": "code",
   "execution_count": 50,
   "id": "eddb4bff",
   "metadata": {},
   "outputs": [
    {
     "data": {
      "text/html": [
       "<style>#sk-container-id-1 {color: black;background-color: white;}#sk-container-id-1 pre{padding: 0;}#sk-container-id-1 div.sk-toggleable {background-color: white;}#sk-container-id-1 label.sk-toggleable__label {cursor: pointer;display: block;width: 100%;margin-bottom: 0;padding: 0.3em;box-sizing: border-box;text-align: center;}#sk-container-id-1 label.sk-toggleable__label-arrow:before {content: \"▸\";float: left;margin-right: 0.25em;color: #696969;}#sk-container-id-1 label.sk-toggleable__label-arrow:hover:before {color: black;}#sk-container-id-1 div.sk-estimator:hover label.sk-toggleable__label-arrow:before {color: black;}#sk-container-id-1 div.sk-toggleable__content {max-height: 0;max-width: 0;overflow: hidden;text-align: left;background-color: #f0f8ff;}#sk-container-id-1 div.sk-toggleable__content pre {margin: 0.2em;color: black;border-radius: 0.25em;background-color: #f0f8ff;}#sk-container-id-1 input.sk-toggleable__control:checked~div.sk-toggleable__content {max-height: 200px;max-width: 100%;overflow: auto;}#sk-container-id-1 input.sk-toggleable__control:checked~label.sk-toggleable__label-arrow:before {content: \"▾\";}#sk-container-id-1 div.sk-estimator input.sk-toggleable__control:checked~label.sk-toggleable__label {background-color: #d4ebff;}#sk-container-id-1 div.sk-label input.sk-toggleable__control:checked~label.sk-toggleable__label {background-color: #d4ebff;}#sk-container-id-1 input.sk-hidden--visually {border: 0;clip: rect(1px 1px 1px 1px);clip: rect(1px, 1px, 1px, 1px);height: 1px;margin: -1px;overflow: hidden;padding: 0;position: absolute;width: 1px;}#sk-container-id-1 div.sk-estimator {font-family: monospace;background-color: #f0f8ff;border: 1px dotted black;border-radius: 0.25em;box-sizing: border-box;margin-bottom: 0.5em;}#sk-container-id-1 div.sk-estimator:hover {background-color: #d4ebff;}#sk-container-id-1 div.sk-parallel-item::after {content: \"\";width: 100%;border-bottom: 1px solid gray;flex-grow: 1;}#sk-container-id-1 div.sk-label:hover label.sk-toggleable__label {background-color: #d4ebff;}#sk-container-id-1 div.sk-serial::before {content: \"\";position: absolute;border-left: 1px solid gray;box-sizing: border-box;top: 0;bottom: 0;left: 50%;z-index: 0;}#sk-container-id-1 div.sk-serial {display: flex;flex-direction: column;align-items: center;background-color: white;padding-right: 0.2em;padding-left: 0.2em;position: relative;}#sk-container-id-1 div.sk-item {position: relative;z-index: 1;}#sk-container-id-1 div.sk-parallel {display: flex;align-items: stretch;justify-content: center;background-color: white;position: relative;}#sk-container-id-1 div.sk-item::before, #sk-container-id-1 div.sk-parallel-item::before {content: \"\";position: absolute;border-left: 1px solid gray;box-sizing: border-box;top: 0;bottom: 0;left: 50%;z-index: -1;}#sk-container-id-1 div.sk-parallel-item {display: flex;flex-direction: column;z-index: 1;position: relative;background-color: white;}#sk-container-id-1 div.sk-parallel-item:first-child::after {align-self: flex-end;width: 50%;}#sk-container-id-1 div.sk-parallel-item:last-child::after {align-self: flex-start;width: 50%;}#sk-container-id-1 div.sk-parallel-item:only-child::after {width: 0;}#sk-container-id-1 div.sk-dashed-wrapped {border: 1px dashed gray;margin: 0 0.4em 0.5em 0.4em;box-sizing: border-box;padding-bottom: 0.4em;background-color: white;}#sk-container-id-1 div.sk-label label {font-family: monospace;font-weight: bold;display: inline-block;line-height: 1.2em;}#sk-container-id-1 div.sk-label-container {text-align: center;}#sk-container-id-1 div.sk-container {/* jupyter's `normalize.less` sets `[hidden] { display: none; }` but bootstrap.min.css set `[hidden] { display: none !important; }` so we also need the `!important` here to be able to override the default hidden behavior on the sphinx rendered scikit-learn.org. See: https://github.com/scikit-learn/scikit-learn/issues/21755 */display: inline-block !important;position: relative;}#sk-container-id-1 div.sk-text-repr-fallback {display: none;}</style><div id=\"sk-container-id-1\" class=\"sk-top-container\"><div class=\"sk-text-repr-fallback\"><pre>LinearRegression()</pre><b>In a Jupyter environment, please rerun this cell to show the HTML representation or trust the notebook. <br />On GitHub, the HTML representation is unable to render, please try loading this page with nbviewer.org.</b></div><div class=\"sk-container\" hidden><div class=\"sk-item\"><div class=\"sk-estimator sk-toggleable\"><input class=\"sk-toggleable__control sk-hidden--visually\" id=\"sk-estimator-id-1\" type=\"checkbox\" checked><label for=\"sk-estimator-id-1\" class=\"sk-toggleable__label sk-toggleable__label-arrow\">LinearRegression</label><div class=\"sk-toggleable__content\"><pre>LinearRegression()</pre></div></div></div></div></div>"
      ],
      "text/plain": [
       "LinearRegression()"
      ]
     },
     "execution_count": 50,
     "metadata": {},
     "output_type": "execute_result"
    }
   ],
   "source": [
    "#Building the Linear Regression Model \n",
    "from sklearn.linear_model import LinearRegression\n",
    "\n",
    "model = LinearRegression()\n",
    "model.fit(X_train, y_train)"
   ]
  },
  {
   "cell_type": "code",
   "execution_count": 51,
   "id": "a47adb46",
   "metadata": {},
   "outputs": [
    {
     "data": {
      "text/plain": [
       "12.832161648807597"
      ]
     },
     "execution_count": 51,
     "metadata": {},
     "output_type": "execute_result"
    }
   ],
   "source": [
    "from sklearn.metrics import mean_squared_error\n",
    "y_pred=model.predict(X_train)\n",
    "mean_squared_error(y_train,y_pred,squared=False)"
   ]
  },
  {
   "cell_type": "code",
   "execution_count": 52,
   "id": "6b085001",
   "metadata": {},
   "outputs": [
    {
     "data": {
      "text/plain": [
       "100"
      ]
     },
     "execution_count": 52,
     "metadata": {},
     "output_type": "execute_result"
    }
   ],
   "source": [
    "y_train.max()"
   ]
  },
  {
   "cell_type": "code",
   "execution_count": 53,
   "id": "adbd3df6",
   "metadata": {},
   "outputs": [
    {
     "data": {
      "text/plain": [
       "579      71\n",
       "1183     58\n",
       "1010    100\n",
       "1330     25\n",
       "77       55\n",
       "       ... \n",
       "268      80\n",
       "708      91\n",
       "31       52\n",
       "1560     42\n",
       "1031     52\n",
       "Name: confidence, Length: 378, dtype: int64"
      ]
     },
     "execution_count": 53,
     "metadata": {},
     "output_type": "execute_result"
    }
   ],
   "source": [
    "y_test"
   ]
  },
  {
   "cell_type": "code",
   "execution_count": 55,
   "id": "e7d433ea",
   "metadata": {},
   "outputs": [],
   "source": [
    "X_test['scan_binned'].fillna(wildlife['scan_binned'].mode()[0], inplace=True)"
   ]
  },
  {
   "cell_type": "code",
   "execution_count": 56,
   "id": "b164cee3",
   "metadata": {},
   "outputs": [
    {
     "data": {
      "text/plain": [
       "array([ 67.34742718,  65.82673147, 106.35991463,  49.78478507,\n",
       "        66.54558692,  46.85034425,  61.71962651,  83.29892128,\n",
       "        64.10205082,  56.78665611,  51.27766312,  76.72741699,\n",
       "        64.11766842,  77.25457018,  70.47286362,  57.39978445,\n",
       "        69.50801702,  72.09852218,  70.25019974,  74.2533968 ,\n",
       "        67.49722169,  81.02917266,  61.03596144,  65.31792204,\n",
       "        57.90991002,  66.1054787 ,  69.07664071,  66.95522954,\n",
       "        76.64458212,  68.83803482,  70.19362968,  55.73431371,\n",
       "        79.76562981,  89.24462198,  64.99373422,  67.76959172,\n",
       "        67.28631437,  64.07997727,  70.61584717,  46.92242498,\n",
       "        63.59390561,  69.04177442,  62.93632897,  63.93119823,\n",
       "        62.44229624,  84.24610211,  67.82538933,  56.06758343,\n",
       "        72.19495986,  61.68989903,  63.88537717,  71.75911237,\n",
       "        71.03355619,  79.31903409,  71.49309396,  69.02882944,\n",
       "        71.97384046,  69.7028736 ,  57.40860923,  62.48211587,\n",
       "        68.18308555,  71.27507304,  49.85619558,  69.18513217,\n",
       "        55.73167384,  74.15192406,  69.19713142,  75.64101944,\n",
       "        71.3408357 ,  74.00087946,  71.11245601,  67.697813  ,\n",
       "        68.99819171,  38.80722049,  62.61590904,  73.58441148,\n",
       "        62.16423339,  70.57097956,  69.41942297, 100.31681807,\n",
       "        60.47178045,  70.20666475,  66.96997513,  66.4978606 ,\n",
       "        69.56813144,  66.75943528,  79.40142501,  85.96308298,\n",
       "        71.33876497,  74.10757378,  78.94544835,  78.62916025,\n",
       "        65.7688951 ,  64.70790294,  68.28720908,  64.31199821,\n",
       "        69.29059676,  74.91361994,  71.64129983,  73.07456177,\n",
       "        62.3434121 ,  94.8053945 ,  69.93762242,  62.36082666,\n",
       "        82.9978126 ,  64.52770124,  63.7061828 ,  96.52482474,\n",
       "        63.29696406,  74.91398134,  60.34566503,  59.45844462,\n",
       "        67.3916764 ,  83.89853996,  65.57471154,  47.03815299,\n",
       "        59.41251268,  45.44839587,  65.93417124,  69.83582327,\n",
       "        74.78175589,  64.41891681,  68.12796323,  74.1516218 ,\n",
       "        73.09438853,  71.05522134,  70.72969556,  78.28334349,\n",
       "        71.78317444,  51.22006495,  59.15286315,  66.37739813,\n",
       "        69.20320351,  71.44077565,  68.5752846 ,  63.72160001,\n",
       "        63.28315411,  64.59314704,  48.89201375,  70.46537837,\n",
       "        61.00726466,  76.22666613,  60.75906454,  91.85196775,\n",
       "        78.35810747,  44.52971842,  53.91340114,  71.81910339,\n",
       "        65.75781968,  60.74535964,  66.12464871,  77.57832481,\n",
       "        42.95133973,  78.66643243,  64.17301017,  69.72416703,\n",
       "        80.85707039,  73.34657978,  67.99108554,  59.50390501,\n",
       "        67.01811621,  73.4067045 ,  63.85955735,  64.0913011 ,\n",
       "        52.38629879,  75.1949483 ,  66.89684288,  55.63873563,\n",
       "        82.1111376 ,  64.96216049,  64.45103254,  64.94964043,\n",
       "        77.52064794,  59.59575484,  58.67524057,  82.07615822,\n",
       "        66.48415925,  73.62737622,  64.72544229,  55.61748644,\n",
       "        62.66376529,  34.17482227,  51.00645762,  64.1455758 ,\n",
       "        59.08551322,  46.69372773,  49.1873825 ,  77.90612566,\n",
       "       100.22458434,  66.31297447,  63.68340624,  51.07774116,\n",
       "        69.03927014,  70.35893546,  68.14390146,  74.55050315,\n",
       "        57.06063566,  70.62356706,  66.3614246 ,  68.26081805,\n",
       "        66.69664619,  75.88664729,  80.84123972,  73.0887283 ,\n",
       "        71.17136506, 113.82845925,  57.98125062,  63.20719936,\n",
       "        60.44857707,  91.51446751,  63.80395517,  70.61710104,\n",
       "        64.84446351,  73.30139429,  63.22860305,  70.76013543,\n",
       "        64.64122178,  72.39748787,  54.32921035,  67.54988807,\n",
       "        64.78460483,  57.29455183,  73.55986951,  66.43065144,\n",
       "        59.08323964,  70.39753823,  63.98211663,  70.54152565,\n",
       "        66.76504317,  58.64714262,  82.86586417,  90.64266412,\n",
       "        68.92755867,  47.71528224,  64.47316902,  62.36947595,\n",
       "        54.48540675, 105.19865478,  66.26642613,  63.49171797,\n",
       "        49.12784502,  74.75415324,  71.46212318,  78.24852859,\n",
       "        97.23561027,  64.62788864,  58.17233536,  71.00876287,\n",
       "        75.33971441,  63.83244449,  69.88210092,  66.80250061,\n",
       "        63.97475886,  58.08149463,  64.84363356,  76.04718166,\n",
       "        58.25250118,  75.3407607 ,  59.93301631,  62.99599474,\n",
       "        43.61890246,  69.14083004,  53.63280664,  71.99076291,\n",
       "        38.02963287,  51.52904773,  66.27960994,  58.53606371,\n",
       "        87.34291968,  68.30161037,  77.12666416,  64.39133195,\n",
       "        68.89665038,  55.03617552,  67.62225483,  73.32311376,\n",
       "        69.81758096,  68.55717068,  65.62262339,  65.43540469,\n",
       "        55.13004349,  68.57611069,  48.7796098 ,  51.49230024,\n",
       "        55.99455082,  73.87785107,  62.84311106,  75.93499333,\n",
       "        66.32148974,  56.03100738,  65.98917919,  73.50301143,\n",
       "        74.05934429, 100.88564938,  75.78042398,  75.90820455,\n",
       "        64.27426483,  87.522954  ,  75.24850093,  54.01738422,\n",
       "        71.31739999,  63.13043765,  81.90490505,  45.47176552,\n",
       "        75.3391261 ,  66.21111801,  53.19793226,  95.96087702,\n",
       "        85.23548695,  70.21743372,  66.45724265,  68.9093651 ,\n",
       "        69.56943937,  68.41283926,  70.83172218,  72.92562571,\n",
       "        66.30535315,  70.49346844,  75.83477913,  52.35159563,\n",
       "        67.96244015,  81.20682234,  53.25063877,  81.06606856,\n",
       "        76.74971203,  76.35435717,  66.79012875,  57.57825523,\n",
       "        62.59066618,  54.35685452,  55.94828029,  71.2974531 ,\n",
       "        65.21833684,  65.56991192,  55.77418146,  75.49476277,\n",
       "        64.85007518,  68.89075245,  48.63863078,  81.00738593,\n",
       "        60.51068663,  67.02578556,  52.97674851,  74.46504044,\n",
       "        67.76525703,  65.33089432,  66.29510875,  67.64445095,\n",
       "        65.27704626,  60.92837263,  54.33726882,  74.77780252,\n",
       "        60.75559813,  68.81980779,  70.01699949,  68.92614598,\n",
       "        50.75704089,  58.19117266,  57.72316698,  65.17866569,\n",
       "        63.01686982,  76.28192935,  68.25371985,  71.49380536,\n",
       "        79.29677206,  79.34466867,  94.80167327,  62.91334837,\n",
       "        65.05419689,  79.3486318 , 108.48288767,  69.12702716,\n",
       "       101.09259217,  75.35088743,  89.12033141,  65.63636031,\n",
       "        46.49581916,  50.32512162])"
      ]
     },
     "execution_count": 56,
     "metadata": {},
     "output_type": "execute_result"
    }
   ],
   "source": [
    "y_predict = model.predict(X_test) \n",
    "y_predict"
   ]
  },
  {
   "cell_type": "code",
   "execution_count": 57,
   "id": "6f990782",
   "metadata": {},
   "outputs": [
    {
     "data": {
      "text/plain": [
       "12.450480533122354"
      ]
     },
     "execution_count": 57,
     "metadata": {},
     "output_type": "execute_result"
    }
   ],
   "source": [
    "mean_squared_error(y_test,y_predict,squared=False)"
   ]
  },
  {
   "cell_type": "code",
   "execution_count": 58,
   "id": "759fd878",
   "metadata": {},
   "outputs": [],
   "source": [
    "def conf(lat,long,br,sat,frp,dn,yr,mn,day,scan):\n",
    "    #arr=[lat,long,br,frp,dn,scan,yr,mn,day];\n",
    "    dict = {'latitude': lat, 'longitude': long,'brightness':br,'satellite':sat, 'frp': frp, 'daynight': dn, 'year': yr, 'month': mn, 'day': day,'scan_binned': scan}\n",
    "    df=pd.DataFrame(dict, index=[0])\n",
    "    ys=model.predict(df)\n",
    "    return ys\n",
    "    "
   ]
  },
  {
   "cell_type": "code",
   "execution_count": 59,
   "id": "a7ae69d5",
   "metadata": {},
   "outputs": [],
   "source": [
    "def inp():\n",
    "    lat=input();\n",
    "    long=input();\n",
    "    br=input();\n",
    "    frp=input();\n",
    "    dn=input();\n",
    "    scan=input();\n",
    "    yr=input();\n",
    "    mn=input();\n",
    "    day=input();\n",
    "    sat=input();\n",
    "    print(conf(lat,long,br,sat,frp,dn,yr,mn,day,scan));  "
   ]
  },
  {
   "cell_type": "code",
   "execution_count": 61,
   "id": "00f41a3d",
   "metadata": {},
   "outputs": [
    {
     "name": "stdout",
     "output_type": "stream",
     "text": [
      "[36373.95952478]\n"
     ]
    }
   ],
   "source": [
    "inp()"
   ]
  },
  {
   "cell_type": "code",
   "execution_count": 63,
   "id": "c6efd0a3",
   "metadata": {},
   "outputs": [
    {
     "name": "stdout",
     "output_type": "stream",
     "text": [
      "Collecting gradio\n",
      "  Downloading gradio-3.0.20-py3-none-any.whl (5.1 MB)\n",
      "     ---------------------------------------- 5.1/5.1 MB 14.8 MB/s eta 0:00:00\n",
      "Collecting uvicorn\n",
      "  Downloading uvicorn-0.18.1-py3-none-any.whl (57 kB)\n",
      "     ---------------------------------------- 57.0/57.0 KB 2.9 MB/s eta 0:00:00\n",
      "Collecting fsspec\n",
      "  Downloading fsspec-2022.5.0-py3-none-any.whl (140 kB)\n",
      "     -------------------------------------- 140.6/140.6 KB 4.1 MB/s eta 0:00:00\n",
      "Collecting fastapi\n",
      "  Downloading fastapi-0.78.0-py3-none-any.whl (54 kB)\n",
      "     ---------------------------------------- 54.6/54.6 KB 2.8 MB/s eta 0:00:00\n",
      "Requirement already satisfied: matplotlib in c:\\users\\acayt\\appdata\\local\\programs\\python\\python310\\lib\\site-packages (from gradio) (3.5.1)\n",
      "Requirement already satisfied: pillow in c:\\users\\acayt\\appdata\\local\\programs\\python\\python310\\lib\\site-packages (from gradio) (9.0.0)\n",
      "Collecting pydub\n",
      "  Downloading pydub-0.25.1-py2.py3-none-any.whl (32 kB)\n",
      "Requirement already satisfied: Jinja2 in c:\\users\\acayt\\appdata\\local\\programs\\python\\python310\\lib\\site-packages (from gradio) (3.1.2)\n",
      "Collecting pycryptodome\n",
      "  Downloading pycryptodome-3.15.0-cp35-abi3-win_amd64.whl (1.9 MB)\n",
      "     ---------------------------------------- 1.9/1.9 MB 20.8 MB/s eta 0:00:00\n",
      "Collecting markdown-it-py[linkify,plugins]\n",
      "  Downloading markdown_it_py-2.1.0-py3-none-any.whl (84 kB)\n",
      "     ---------------------------------------- 84.5/84.5 KB 4.6 MB/s eta 0:00:00\n",
      "Collecting analytics-python\n",
      "  Downloading analytics_python-1.4.0-py2.py3-none-any.whl (15 kB)\n",
      "Collecting python-multipart\n",
      "  Downloading python-multipart-0.0.5.tar.gz (32 kB)\n",
      "  Preparing metadata (setup.py): started\n",
      "  Preparing metadata (setup.py): finished with status 'done'\n",
      "Collecting ffmpy\n",
      "  Downloading ffmpy-0.3.0.tar.gz (4.8 kB)\n",
      "  Preparing metadata (setup.py): started\n",
      "  Preparing metadata (setup.py): finished with status 'done'\n",
      "Requirement already satisfied: requests in c:\\users\\acayt\\appdata\\local\\programs\\python\\python310\\lib\\site-packages (from gradio) (2.27.1)\n",
      "Requirement already satisfied: numpy in c:\\users\\acayt\\appdata\\local\\programs\\python\\python310\\lib\\site-packages (from gradio) (1.22.0)\n",
      "Collecting paramiko\n",
      "  Downloading paramiko-2.11.0-py2.py3-none-any.whl (212 kB)\n",
      "     ------------------------------------- 212.9/212.9 KB 13.5 MB/s eta 0:00:00\n",
      "Collecting aiohttp\n"
     ]
    },
    {
     "name": "stderr",
     "output_type": "stream",
     "text": [
      "WARNING: You are using pip version 22.0.4; however, version 22.1.2 is available.\n",
      "You should consider upgrading via the 'C:\\Users\\acayt\\AppData\\Local\\Programs\\Python\\Python310\\python.exe -m pip install --upgrade pip' command.\n"
     ]
    },
    {
     "name": "stdout",
     "output_type": "stream",
     "text": [
      "  Downloading aiohttp-3.8.1-cp310-cp310-win_amd64.whl (555 kB)\n",
      "     ------------------------------------- 555.1/555.1 KB 17.6 MB/s eta 0:00:00\n",
      "Collecting orjson\n",
      "  Downloading orjson-3.7.3-cp310-none-win_amd64.whl (188 kB)\n",
      "     ------------------------------------- 188.9/188.9 KB 11.2 MB/s eta 0:00:00\n",
      "Requirement already satisfied: pandas in c:\\users\\acayt\\appdata\\local\\programs\\python\\python310\\lib\\site-packages (from gradio) (1.3.5)\n",
      "Collecting yarl<2.0,>=1.0\n",
      "  Downloading yarl-1.7.2-cp310-cp310-win_amd64.whl (122 kB)\n",
      "     -------------------------------------- 122.2/122.2 KB 3.6 MB/s eta 0:00:00\n",
      "Requirement already satisfied: charset-normalizer<3.0,>=2.0 in c:\\users\\acayt\\appdata\\local\\programs\\python\\python310\\lib\\site-packages (from aiohttp->gradio) (2.0.10)\n",
      "Collecting frozenlist>=1.1.1\n",
      "  Downloading frozenlist-1.3.0-cp310-cp310-win_amd64.whl (33 kB)\n",
      "Requirement already satisfied: attrs>=17.3.0 in c:\\users\\acayt\\appdata\\local\\programs\\python\\python310\\lib\\site-packages (from aiohttp->gradio) (21.4.0)\n",
      "Collecting multidict<7.0,>=4.5\n",
      "  Downloading multidict-6.0.2-cp310-cp310-win_amd64.whl (27 kB)\n",
      "Collecting aiosignal>=1.1.2\n",
      "  Downloading aiosignal-1.2.0-py3-none-any.whl (8.2 kB)\n",
      "Collecting async-timeout<5.0,>=4.0.0a3\n",
      "  Downloading async_timeout-4.0.2-py3-none-any.whl (5.8 kB)\n",
      "Collecting monotonic>=1.5\n",
      "  Downloading monotonic-1.6-py2.py3-none-any.whl (8.2 kB)\n",
      "Requirement already satisfied: six>=1.5 in c:\\users\\acayt\\appdata\\local\\programs\\python\\python310\\lib\\site-packages (from analytics-python->gradio) (1.16.0)\n",
      "Collecting backoff==1.10.0\n",
      "  Downloading backoff-1.10.0-py2.py3-none-any.whl (31 kB)\n",
      "Requirement already satisfied: python-dateutil>2.1 in c:\\users\\acayt\\appdata\\local\\programs\\python\\python310\\lib\\site-packages (from analytics-python->gradio) (2.8.2)\n",
      "Requirement already satisfied: certifi>=2017.4.17 in c:\\users\\acayt\\appdata\\local\\programs\\python\\python310\\lib\\site-packages (from requests->gradio) (2021.10.8)\n",
      "Requirement already satisfied: idna<4,>=2.5 in c:\\users\\acayt\\appdata\\local\\programs\\python\\python310\\lib\\site-packages (from requests->gradio) (3.3)\n",
      "Requirement already satisfied: urllib3<1.27,>=1.21.1 in c:\\users\\acayt\\appdata\\local\\programs\\python\\python310\\lib\\site-packages (from requests->gradio) (1.26.7)\n",
      "Collecting starlette==0.19.1\n",
      "  Downloading starlette-0.19.1-py3-none-any.whl (63 kB)\n",
      "     ---------------------------------------- 63.3/63.3 KB 1.7 MB/s eta 0:00:00\n",
      "Collecting pydantic!=1.7,!=1.7.1,!=1.7.2,!=1.7.3,!=1.8,!=1.8.1,<2.0.0,>=1.6.2\n",
      "  Downloading pydantic-1.9.1-cp310-cp310-win_amd64.whl (2.0 MB)\n",
      "     ---------------------------------------- 2.0/2.0 MB 25.0 MB/s eta 0:00:00\n",
      "Collecting anyio<5,>=3.4.0\n",
      "  Downloading anyio-3.6.1-py3-none-any.whl (80 kB)\n",
      "     ---------------------------------------- 80.6/80.6 KB 4.4 MB/s eta 0:00:00\n",
      "Requirement already satisfied: MarkupSafe>=2.0 in c:\\users\\acayt\\appdata\\local\\programs\\python\\python310\\lib\\site-packages (from Jinja2->gradio) (2.1.1)\n",
      "Collecting mdurl~=0.1\n",
      "  Downloading mdurl-0.1.1-py3-none-any.whl (10 kB)\n",
      "Collecting mdit-py-plugins\n",
      "  Downloading mdit_py_plugins-0.3.0-py3-none-any.whl (43 kB)\n",
      "     ---------------------------------------- 43.7/43.7 KB 1.0 MB/s eta 0:00:00\n",
      "Collecting linkify-it-py~=1.0\n",
      "  Downloading linkify_it_py-1.0.3-py3-none-any.whl (19 kB)\n",
      "Requirement already satisfied: kiwisolver>=1.0.1 in c:\\users\\acayt\\appdata\\local\\programs\\python\\python310\\lib\\site-packages (from matplotlib->gradio) (1.3.2)\n",
      "Requirement already satisfied: packaging>=20.0 in c:\\users\\acayt\\appdata\\local\\programs\\python\\python310\\lib\\site-packages (from matplotlib->gradio) (21.3)\n",
      "Requirement already satisfied: fonttools>=4.22.0 in c:\\users\\acayt\\appdata\\local\\programs\\python\\python310\\lib\\site-packages (from matplotlib->gradio) (4.28.5)\n",
      "Requirement already satisfied: cycler>=0.10 in c:\\users\\acayt\\appdata\\local\\programs\\python\\python310\\lib\\site-packages (from matplotlib->gradio) (0.11.0)\n",
      "Requirement already satisfied: pyparsing>=2.2.1 in c:\\users\\acayt\\appdata\\local\\programs\\python\\python310\\lib\\site-packages (from matplotlib->gradio) (3.0.6)\n",
      "Requirement already satisfied: pytz>=2017.3 in c:\\users\\acayt\\appdata\\local\\programs\\python\\python310\\lib\\site-packages (from pandas->gradio) (2021.3)\n",
      "Collecting pynacl>=1.0.1\n",
      "  Downloading PyNaCl-1.5.0-cp36-abi3-win_amd64.whl (212 kB)\n",
      "     ------------------------------------- 212.1/212.1 KB 13.5 MB/s eta 0:00:00\n",
      "Collecting cryptography>=2.5\n",
      "  Downloading cryptography-37.0.2-cp36-abi3-win_amd64.whl (2.4 MB)\n",
      "     ---------------------------------------- 2.4/2.4 MB 22.2 MB/s eta 0:00:00\n",
      "Collecting bcrypt>=3.1.3\n",
      "  Downloading bcrypt-3.2.2-cp36-abi3-win_amd64.whl (29 kB)\n",
      "Requirement already satisfied: click>=7.0 in c:\\users\\acayt\\appdata\\local\\programs\\python\\python310\\lib\\site-packages (from uvicorn->gradio) (8.0.3)\n",
      "Collecting h11>=0.8\n",
      "  Downloading h11-0.13.0-py3-none-any.whl (58 kB)\n",
      "     ---------------------------------------- 58.2/58.2 KB 1.5 MB/s eta 0:00:00\n",
      "Collecting cffi>=1.1\n",
      "  Downloading cffi-1.15.0-cp310-cp310-win_amd64.whl (180 kB)\n",
      "     ------------------------------------- 180.3/180.3 KB 10.6 MB/s eta 0:00:00\n",
      "Requirement already satisfied: colorama in c:\\users\\acayt\\appdata\\local\\programs\\python\\python310\\lib\\site-packages (from click>=7.0->uvicorn->gradio) (0.4.4)\n",
      "Collecting uc-micro-py\n",
      "  Downloading uc_micro_py-1.0.1-py3-none-any.whl (6.2 kB)\n",
      "Requirement already satisfied: typing-extensions>=3.7.4.3 in c:\\users\\acayt\\appdata\\local\\programs\\python\\python310\\lib\\site-packages (from pydantic!=1.7,!=1.7.1,!=1.7.2,!=1.7.3,!=1.8,!=1.8.1,<2.0.0,>=1.6.2->fastapi->gradio) (4.2.0)\n",
      "Collecting sniffio>=1.1\n",
      "  Downloading sniffio-1.2.0-py3-none-any.whl (10 kB)\n",
      "Collecting pycparser\n",
      "  Downloading pycparser-2.21-py2.py3-none-any.whl (118 kB)\n",
      "     -------------------------------------- 118.7/118.7 KB 6.8 MB/s eta 0:00:00\n",
      "Building wheels for collected packages: ffmpy, python-multipart\n",
      "  Building wheel for ffmpy (setup.py): started\n",
      "  Building wheel for ffmpy (setup.py): finished with status 'done'\n",
      "  Created wheel for ffmpy: filename=ffmpy-0.3.0-py3-none-any.whl size=4712 sha256=68489d916859e764382083772baae037c20c4d1a57ce236b8fd6bbe1da5ea6ea\n",
      "  Stored in directory: c:\\users\\acayt\\appdata\\local\\pip\\cache\\wheels\\0c\\c2\\0e\\3b9c6845c6a4e35beb90910cc70d9ac9ab5d47402bd62af0df\n",
      "  Building wheel for python-multipart (setup.py): started\n",
      "  Building wheel for python-multipart (setup.py): finished with status 'done'\n",
      "  Created wheel for python-multipart: filename=python_multipart-0.0.5-py3-none-any.whl size=31678 sha256=4ec00c97a4779e935c047eb60356ad3b7852745a12837a77e80455b48f989071\n",
      "  Stored in directory: c:\\users\\acayt\\appdata\\local\\pip\\cache\\wheels\\ae\\3f\\03\\fa4bd98cd7f4a25e63b6a0b61a7a8352e0f874cd9de1f3390d\n",
      "Successfully built ffmpy python-multipart\n",
      "Installing collected packages: pydub, monotonic, ffmpy, uc-micro-py, sniffio, python-multipart, pydantic, pycryptodome, pycparser, orjson, multidict, mdurl, h11, fsspec, frozenlist, backoff, async-timeout, yarl, uvicorn, markdown-it-py, linkify-it-py, cffi, anyio, analytics-python, aiosignal, starlette, pynacl, mdit-py-plugins, cryptography, bcrypt, aiohttp, paramiko, fastapi, gradio\n",
      "Successfully installed aiohttp-3.8.1 aiosignal-1.2.0 analytics-python-1.4.0 anyio-3.6.1 async-timeout-4.0.2 backoff-1.10.0 bcrypt-3.2.2 cffi-1.15.0 cryptography-37.0.2 fastapi-0.78.0 ffmpy-0.3.0 frozenlist-1.3.0 fsspec-2022.5.0 gradio-3.0.20 h11-0.13.0 linkify-it-py-1.0.3 markdown-it-py-2.1.0 mdit-py-plugins-0.3.0 mdurl-0.1.1 monotonic-1.6 multidict-6.0.2 orjson-3.7.3 paramiko-2.11.0 pycparser-2.21 pycryptodome-3.15.0 pydantic-1.9.1 pydub-0.25.1 pynacl-1.5.0 python-multipart-0.0.5 sniffio-1.2.0 starlette-0.19.1 uc-micro-py-1.0.1 uvicorn-0.18.1 yarl-1.7.2\n"
     ]
    }
   ],
   "source": [
    "!pip install gradio"
   ]
  },
  {
   "cell_type": "code",
   "execution_count": 64,
   "id": "099a16c7",
   "metadata": {},
   "outputs": [],
   "source": [
    "import gradio as gr"
   ]
  },
  {
   "cell_type": "code",
   "execution_count": 67,
   "id": "952b149c",
   "metadata": {},
   "outputs": [],
   "source": [
    "interface=gr.Interface(fn=conf,\n",
    "                      inputs=[\"text\",\"text\",\"text\",\"text\",\"text\",\"text\",\"text\",\"text\",\"text\",\"text\"],outputs=[\"text\"])"
   ]
  },
  {
   "cell_type": "code",
   "execution_count": 68,
   "id": "d140be39",
   "metadata": {},
   "outputs": [
    {
     "name": "stdout",
     "output_type": "stream",
     "text": [
      "Running on local URL:  http://127.0.0.1:7861/\n",
      "\n",
      "To create a public link, set `share=True` in `launch()`.\n"
     ]
    },
    {
     "data": {
      "text/html": [
       "<div><iframe src=\"http://127.0.0.1:7861/\" width=\"900\" height=\"500\" allow=\"autoplay; camera; microphone;\" frameborder=\"0\" allowfullscreen></iframe></div>"
      ],
      "text/plain": [
       "<IPython.core.display.HTML object>"
      ]
     },
     "metadata": {},
     "output_type": "display_data"
    },
    {
     "data": {
      "text/plain": [
       "(<gradio.routes.App at 0x1b54ac81690>, 'http://127.0.0.1:7861/', None)"
      ]
     },
     "execution_count": 68,
     "metadata": {},
     "output_type": "execute_result"
    }
   ],
   "source": [
    "interface.launch()"
   ]
  },
  {
   "cell_type": "code",
   "execution_count": null,
   "id": "d6553d96",
   "metadata": {},
   "outputs": [],
   "source": []
  }
 ],
 "metadata": {
  "kernelspec": {
   "display_name": "Python 3.10.0 64-bit",
   "language": "python",
   "name": "python3"
  },
  "language_info": {
   "codemirror_mode": {
    "name": "ipython",
    "version": 3
   },
   "file_extension": ".py",
   "mimetype": "text/x-python",
   "name": "python",
   "nbconvert_exporter": "python",
   "pygments_lexer": "ipython3",
   "version": "3.10.0"
  },
  "vscode": {
   "interpreter": {
    "hash": "42d631c97d3a7942c4c370955af34a4195632f6be3582dbc391d521a11ed78e3"
   }
  }
 },
 "nbformat": 4,
 "nbformat_minor": 5
}
